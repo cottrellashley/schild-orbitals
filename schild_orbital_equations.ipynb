{
 "cells": [
  {
   "cell_type": "code",
   "execution_count": 5,
   "id": "ce0efe56-3add-455c-a750-c9398fd358a8",
   "metadata": {},
   "outputs": [],
   "source": [
    "import sympy as smp\n",
    "import sympy.tensor as ten\n",
    "import numpy as np\n",
    "import scipy as sp\n",
    "import itertools as it\n",
    "from sympy import Subs\n",
    "import scipy.integrate as integrate\n",
    "import matplotlib.pyplot as plt\n",
    "from matplotlib import animation\n",
    "from mpl_toolkits.mplot3d import Axes3D\n",
    "from matplotlib.animation import PillowWriter"
   ]
  },
  {
   "cell_type": "markdown",
   "id": "4dace6cf-5467-4c38-aca5-38c096c29262",
   "metadata": {
    "tags": []
   },
   "source": [
    "# <center>Defining Metrics Tensors, Energy-Momentum Tensors and Variables<center>"
   ]
  },
  {
   "cell_type": "markdown",
   "id": "3fe30769-fb09-4877-bfe1-71b1420e8189",
   "metadata": {
    "tags": []
   },
   "source": [
    "## The Variables"
   ]
  },
  {
   "cell_type": "code",
   "execution_count": 6,
   "id": "ea77f6d4-054c-4435-b7d0-ff895a30430c",
   "metadata": {},
   "outputs": [],
   "source": [
    "Q, m, sigma, C_0, alpha, beta, r_s, M, t, r, theta, phi, tau, x, y, z, l, E = smp.symbols('Q m sigma C_0 alpha beta r_s M t r theta phi tau x y z l E', float = True)"
   ]
  },
  {
   "cell_type": "markdown",
   "id": "12ede966-17ab-49ff-8f06-b1e8e6959355",
   "metadata": {
    "tags": []
   },
   "source": [
    "## The Metric Tensors"
   ]
  },
  {
   "cell_type": "markdown",
   "id": "9179fb0d-8f30-4c0e-872a-80c696d33ed8",
   "metadata": {
    "tags": []
   },
   "source": [
    "#### A General Spherically Symmetric Metric"
   ]
  },
  {
   "cell_type": "code",
   "execution_count": 7,
   "id": "f7006fa6-c4c3-44db-89f0-d8f34346e0c3",
   "metadata": {},
   "outputs": [],
   "source": [
    "class NotableTensors:\n",
    "    \n",
    "    def Reissner_Nordstrom(self,\n",
    "                           Coordinates : object,\n",
    "                           S_radius : object,\n",
    "                           Charge : object ):\n",
    "        C = Coordinates\n",
    "        P = S_radius\n",
    "        Q = Charge\n",
    "        \n",
    "        return smp.MutableDenseNDimArray([[-(1 - (P)/(C[1]) + (Q**2)/(C[1]**2)),0,0,0],[0,1/(1 - (P)/(C[1])  + (Q**2)/(C[1]**2)),0,0],[0,0,C[1]**2,0],[0,0,0,C[1]**2*smp.sin(C[2])**2]])\n",
    "\n",
    "    def Schwarzschild(self, \n",
    "                      Coordinates : object , \n",
    "                      S_radius : object ):\n",
    "        \n",
    "        C = Coordinates\n",
    "        P = S_radius\n",
    "        \n",
    "        return smp.MutableDenseNDimArray([[-(1 - (P)/(C[1])),0,0,0],[0,1/(1 - (P)/(C[1])),0,0],[0,0,C[1]**2,0],[0,0,0,C[1]**2*smp.sin(C[2])**2]])\n",
    "    "
   ]
  },
  {
   "cell_type": "code",
   "execution_count": 8,
   "id": "fb9a2063-cbf9-4127-81be-d91b21333c8f",
   "metadata": {},
   "outputs": [
    {
     "data": {
      "text/latex": [
       "$\\displaystyle \\left[\\begin{matrix}-1 + \\frac{r_{s}}{r} & 0 & 0 & 0\\\\0 & \\frac{1}{1 - \\frac{r_{s}}{r}} & 0 & 0\\\\0 & 0 & r^{2} & 0\\\\0 & 0 & 0 & r^{2} \\sin^{2}{\\left(\\theta \\right)}\\end{matrix}\\right]$"
      ],
      "text/plain": [
       "[[-1 + r_s/r, 0, 0, 0], [0, 1/(1 - r_s/r), 0, 0], [0, 0, r**2, 0], [0, 0, 0, r**2*sin(theta)**2]]"
      ]
     },
     "execution_count": 8,
     "metadata": {},
     "output_type": "execute_result"
    }
   ],
   "source": [
    "Metrics = NotableTensors()\n",
    "\n",
    "Metrics.Schwarzschild(Coordinates = [t, r, theta , phi], S_radius = r_s)"
   ]
  },
  {
   "cell_type": "code",
   "execution_count": 9,
   "id": "9abf009e-4b1b-46f8-9ad2-cd2b4c2d96d2",
   "metadata": {},
   "outputs": [],
   "source": [
    "t_p, r_p, theta_p, phi_p = smp.symbols('t_p r_p theta_p phi_p', cls = smp.Function)\n",
    "\n",
    "t_p = t_p(tau)\n",
    "r_p = r_p(tau)\n",
    "theta_p = theta_p(tau)\n",
    "phi_p = phi_p(tau)\n",
    "\n",
    "Schild = { 'Metric' : smp.MutableDenseNDimArray([[-(1 - (r_s)/(r_p)),0,0,0],\n",
    "                                                 [0,1/(1 - (r_s)/(r_p)),0,0],\n",
    "                                                 [0,0,r_p**2,0],\n",
    "                                                 [0,0,0,r_p**2*smp.sin(theta_p)**2]]),\n",
    "          'Basis' : smp.Array([t_p,r_p,theta_p,phi_p]),\n",
    "          \n",
    "          'Dimention' : 4, \n",
    "          \n",
    "          'Basis_Parameter' : smp.MutableDenseNDimArray([t_p, r_p, theta_p, phi_p]) }"
   ]
  },
  {
   "cell_type": "code",
   "execution_count": 10,
   "id": "2bf27f53-8f56-4785-8bc1-a7b360076fbf",
   "metadata": {},
   "outputs": [],
   "source": [
    "def Schwarzschild(C, P):\n",
    "        C[0], C[1], C[2], C[3] = smp.symbols('{} {} {} {}'.format(str(C[0]),str(C[1]),str(C[2]),str(C[3])))\n",
    "        P[0] = smp.symbols('{}'.format(str(P[0])))\n",
    "        return smp.MutableDenseNDimArray([[-(1 - (P[0])/(C[1])),0,0,0],[0,1/(1 - (P[0])/(C[1])),0,0],[0,0,C[1]**2,0],[0,0,0,C[1]**2*smp.sin(C[2])**2]])\n",
    "        \n",
    "        \n",
    "        "
   ]
  },
  {
   "cell_type": "code",
   "execution_count": 11,
   "id": "988e33f6-d6d4-40c5-8ff6-1be1a9741690",
   "metadata": {},
   "outputs": [],
   "source": [
    "def Schwarzschild1(C, P):\n",
    "        return smp.MutableDenseNDimArray([[-(1 - (P[0])/(C[1])),0,0,0],[0,1/(1 - (P[0])/(C[1])),0,0],[0,0,C[1]**2,0],[0,0,0,C[1]**2*smp.sin(C[2])**2]])"
   ]
  },
  {
   "cell_type": "code",
   "execution_count": 12,
   "id": "6d93bc22-f9fe-4d26-8e15-94542c9379dc",
   "metadata": {},
   "outputs": [
    {
     "data": {
      "text/latex": [
       "$\\displaystyle \\left[\\begin{matrix}\\frac{r_{s}}{r_{p}{\\left(\\tau \\right)}} - 1 & 0 & 0 & 0\\\\0 & \\frac{1}{- \\frac{r_{s}}{r_{p}{\\left(\\tau \\right)}} + 1} & 0 & 0\\\\0 & 0 & r_{p}^{2}{\\left(\\tau \\right)} & 0\\\\0 & 0 & 0 & r_{p}^{2}{\\left(\\tau \\right)} \\sin^{2}{\\left(\\theta_{p}{\\left(\\tau \\right)} \\right)}\\end{matrix}\\right]$"
      ],
      "text/plain": [
       "[[r_s/r_p(tau) - 1, 0, 0, 0], [0, 1/(-r_s/r_p(tau) + 1), 0, 0], [0, 0, r_p(tau)**2, 0], [0, 0, 0, r_p(tau)**2*sin(theta_p(tau))**2]]"
      ]
     },
     "execution_count": 12,
     "metadata": {},
     "output_type": "execute_result"
    }
   ],
   "source": [
    "Schwarzschild1([t_p,r_p,theta_p,phi_p], [r_s])"
   ]
  },
  {
   "cell_type": "code",
   "execution_count": 13,
   "id": "1404ab63-50ee-449f-b76b-fe5faf98ca30",
   "metadata": {},
   "outputs": [],
   "source": [
    "A , B = smp.symbols('A B', cls = smp.Function)\n",
    "A = A(r)\n",
    "B = B(r)"
   ]
  },
  {
   "cell_type": "code",
   "execution_count": 14,
   "id": "0d607684-20ef-4128-8c0a-d2c35660b3ab",
   "metadata": {},
   "outputs": [],
   "source": [
    "SSM = { 'Metric' : smp.MutableDenseNDimArray([[-A,0,0,0],\n",
    "                                            [0,B,0,0],\n",
    "                                            [0,0,r**2,0],\n",
    "                                            [0,0,0,r**2*smp.sin(theta)**2]]),\n",
    "                              \n",
    "        'Basis' : smp.Array([t,r,theta,phi]),\n",
    "                              \n",
    "        'Dimention' : 4,\n",
    "                              \n",
    "        'Basis_Parameter' : smp.MutableDenseNDimArray([t, r, theta, phi])}"
   ]
  },
  {
   "cell_type": "markdown",
   "id": "e3f10f4a-a052-4885-a0c0-ef749fd73dd4",
   "metadata": {
    "tags": []
   },
   "source": [
    "# <center>Functions of the Objects from Differential Geometry<center>\n",
    "\n",
    "$$eq1:  T^{\\mu} =  \\frac{d^2{x^{\\mu}}}{d{\\tau}^2} + \\Gamma^{\\mu}_{\\alpha \\beta} * \\frac{d{x^{\\alpha}}}{d{\\tau}} * \\frac{d{x^{\\beta}}}{d{\\tau}} \n",
    "\\newline\n",
    "\\newline\n",
    "\\newline\n",
    "eq1 |_{\\tau = 2}\n",
    "$$\n",
    "\n",
    "In general relativity, either:\n",
    "\n",
    "1. We know the metric to begin with. (From which we can calculate anything we like with it using the functions bellow.)\n",
    "\n",
    "2. We do not know the metric, but wish to find it. (In which case we must solve Einsteins equations using the functions bellow.)"
   ]
  },
  {
   "cell_type": "markdown",
   "id": "30ab3f8b-051e-4c40-8f2b-793c8cce092b",
   "metadata": {
    "tags": []
   },
   "source": [
    "### Derivative of Rank-2 Tensor\n",
    "\n",
    "$$\\frac{\\partial{ (x^2 + 5) }}{\\partial{x}} |_{x = 2}$$"
   ]
  },
  {
   "cell_type": "code",
   "execution_count": null,
   "id": "a79e6729",
   "metadata": {},
   "outputs": [],
   "source": []
  },
  {
   "cell_type": "code",
   "execution_count": 15,
   "id": "80dfcc79-5332-4cc3-8e0c-d9921d7260fb",
   "metadata": {
    "tags": []
   },
   "outputs": [],
   "source": [
    "def Derivative(T):\n",
    "    G = T['Metric']\n",
    "    N = T['Dimention']\n",
    "    basis = T['Basis']\n",
    "    A = smp.MutableDenseNDimArray(smp.zeros(N**3),(N,N,N))\n",
    "    for i in range(N):\n",
    "        for j in range(N):\n",
    "            for k in range(N):\n",
    "                A[i,j,k] = smp.diff(G[j,k],basis[i])\n",
    "    return A"
   ]
  },
  {
   "cell_type": "code",
   "execution_count": 16,
   "id": "6b24fc23-cf73-499c-ac63-0eec2caf1f05",
   "metadata": {},
   "outputs": [],
   "source": [
    "def DerivativeIter(T):\n",
    "    G = T['Metric']\n",
    "    N = T['Dimention']\n",
    "    basis = T['Basis']\n",
    "    dim = 4\n",
    "    rep = 3\n",
    "    A = smp.MutableDenseNDimArray(smp.zeros(N**3),(N,N,N))\n",
    "    l = [x for x in list(it.product(np.arange(0, dim, 1), repeat = rep))]\n",
    "    for d in l:\n",
    "        A[eval(\"int(d[0]), int(d[1]), int(d[2])\")] = eval(\"smp.diff(G[int(d[1]),int(d[2])],basis[int(d[0])])\")\n",
    "    return A"
   ]
  },
  {
   "cell_type": "code",
   "execution_count": 18,
   "id": "91d69e78-169c-4469-85b9-3c76944a0f26",
   "metadata": {},
   "outputs": [
    {
     "ename": "NameError",
     "evalue": "name 'dim' is not defined",
     "output_type": "error",
     "traceback": [
      "\u001b[0;31m---------------------------------------------------------------------------\u001b[0m",
      "\u001b[0;31mNameError\u001b[0m                                 Traceback (most recent call last)",
      "Cell \u001b[0;32mIn[18], line 1\u001b[0m\n\u001b[0;32m----> 1\u001b[0m l \u001b[38;5;241m=\u001b[39m [x \u001b[38;5;28;01mfor\u001b[39;00m x \u001b[38;5;129;01min\u001b[39;00m \u001b[38;5;28mlist\u001b[39m(it\u001b[38;5;241m.\u001b[39mproduct(np\u001b[38;5;241m.\u001b[39marange(\u001b[38;5;241m0\u001b[39m, \u001b[43mdim\u001b[49m, \u001b[38;5;241m1\u001b[39m), repeat \u001b[38;5;241m=\u001b[39m rep))]\n",
      "\u001b[0;31mNameError\u001b[0m: name 'dim' is not defined"
     ]
    }
   ],
   "source": [
    "l = [x for x in list(it.product(np.arange(0, dim, 1), repeat = rep))]"
   ]
  },
  {
   "cell_type": "code",
   "execution_count": 19,
   "id": "4f6f8f33-e9b6-444a-a0e6-010898b7b838",
   "metadata": {},
   "outputs": [
    {
     "data": {
      "text/latex": [
       "$\\displaystyle \\left[\\begin{matrix}\\left[\\begin{matrix}0 & 0 & 0 & 0\\\\0 & 0 & 0 & 0\\\\0 & 0 & 0 & 0\\\\0 & 0 & 0 & 0\\end{matrix}\\right] & \\left[\\begin{matrix}- \\frac{d}{d r} A{\\left(r \\right)} & 0 & 0 & 0\\\\0 & \\frac{d}{d r} B{\\left(r \\right)} & 0 & 0\\\\0 & 0 & 2 r & 0\\\\0 & 0 & 0 & 2 r \\sin^{2}{\\left(\\theta \\right)}\\end{matrix}\\right] & \\left[\\begin{matrix}0 & 0 & 0 & 0\\\\0 & 0 & 0 & 0\\\\0 & 0 & 0 & 0\\\\0 & 0 & 0 & 2 r^{2} \\sin{\\left(\\theta \\right)} \\cos{\\left(\\theta \\right)}\\end{matrix}\\right] & \\left[\\begin{matrix}0 & 0 & 0 & 0\\\\0 & 0 & 0 & 0\\\\0 & 0 & 0 & 0\\\\0 & 0 & 0 & 0\\end{matrix}\\right]\\end{matrix}\\right]$"
      ],
      "text/plain": [
       "[[[0, 0, 0, 0], [0, 0, 0, 0], [0, 0, 0, 0], [0, 0, 0, 0]], [[-Derivative(A(r), r), 0, 0, 0], [0, Derivative(B(r), r), 0, 0], [0, 0, 2*r, 0], [0, 0, 0, 2*r*sin(theta)**2]], [[0, 0, 0, 0], [0, 0, 0, 0], [0, 0, 0, 0], [0, 0, 0, 2*r**2*sin(theta)*cos(theta)]], [[0, 0, 0, 0], [0, 0, 0, 0], [0, 0, 0, 0], [0, 0, 0, 0]]]"
      ]
     },
     "execution_count": 19,
     "metadata": {},
     "output_type": "execute_result"
    }
   ],
   "source": [
    "Derivative(SSM)"
   ]
  },
  {
   "cell_type": "code",
   "execution_count": 20,
   "id": "40f20335-144b-4b8e-8021-20e21f0199f4",
   "metadata": {},
   "outputs": [
    {
     "data": {
      "text/latex": [
       "$\\displaystyle \\left[\\begin{matrix}\\left[\\begin{matrix}0 & 0 & 0 & 0\\\\0 & 0 & 0 & 0\\\\0 & 0 & 0 & 0\\\\0 & 0 & 0 & 0\\end{matrix}\\right] & \\left[\\begin{matrix}- \\frac{d}{d r} A{\\left(r \\right)} & 0 & 0 & 0\\\\0 & \\frac{d}{d r} B{\\left(r \\right)} & 0 & 0\\\\0 & 0 & 2 r & 0\\\\0 & 0 & 0 & 2 r \\sin^{2}{\\left(\\theta \\right)}\\end{matrix}\\right] & \\left[\\begin{matrix}0 & 0 & 0 & 0\\\\0 & 0 & 0 & 0\\\\0 & 0 & 0 & 0\\\\0 & 0 & 0 & 2 r^{2} \\sin{\\left(\\theta \\right)} \\cos{\\left(\\theta \\right)}\\end{matrix}\\right] & \\left[\\begin{matrix}0 & 0 & 0 & 0\\\\0 & 0 & 0 & 0\\\\0 & 0 & 0 & 0\\\\0 & 0 & 0 & 0\\end{matrix}\\right]\\end{matrix}\\right]$"
      ],
      "text/plain": [
       "[[[0, 0, 0, 0], [0, 0, 0, 0], [0, 0, 0, 0], [0, 0, 0, 0]], [[-Derivative(A(r), r), 0, 0, 0], [0, Derivative(B(r), r), 0, 0], [0, 0, 2*r, 0], [0, 0, 0, 2*r*sin(theta)**2]], [[0, 0, 0, 0], [0, 0, 0, 0], [0, 0, 0, 0], [0, 0, 0, 2*r**2*sin(theta)*cos(theta)]], [[0, 0, 0, 0], [0, 0, 0, 0], [0, 0, 0, 0], [0, 0, 0, 0]]]"
      ]
     },
     "execution_count": 20,
     "metadata": {},
     "output_type": "execute_result"
    }
   ],
   "source": [
    "DerivativeIter(SSM)"
   ]
  },
  {
   "cell_type": "code",
   "execution_count": null,
   "id": "cfb2fb2a-88a8-4d90-8ff2-2efca5132cca",
   "metadata": {},
   "outputs": [],
   "source": []
  },
  {
   "cell_type": "code",
   "execution_count": null,
   "id": "29673416-2c51-48e7-bfa5-c2e9f3d7313a",
   "metadata": {},
   "outputs": [],
   "source": []
  },
  {
   "cell_type": "markdown",
   "id": "df0d5681-6816-4d93-85aa-d0bddf4d1b3c",
   "metadata": {
    "tags": []
   },
   "source": [
    "### Inverse of Rank-2 Tensor\n",
    "\n",
    "$$ g^{\\nu \\beta} = (g^{-1})_{\\nu \\beta}$$"
   ]
  },
  {
   "cell_type": "code",
   "execution_count": 21,
   "id": "1d63d408-19d0-4995-9f7b-e5bb63d229f2",
   "metadata": {
    "tags": []
   },
   "outputs": [],
   "source": [
    "def inv(T):\n",
    "    G = T['Metric']\n",
    "    N = T['Dimention']\n",
    "    basis = T['Basis']\n",
    "    g_m = G.tomatrix()\n",
    "    inv_g = g_m.inv()\n",
    "    A = smp.MutableDenseNDimArray(smp.zeros(N**2),(N,N))\n",
    "    for i in range(N):\n",
    "        for j in range(N):\n",
    "            A[i,j] = inv_g[i, j]\n",
    "    return A"
   ]
  },
  {
   "cell_type": "markdown",
   "id": "a0a9eecc-4d86-4ed8-a9e3-90991ca37ddb",
   "metadata": {
    "tags": []
   },
   "source": [
    "### The Christoffel Symbols\n",
    "\n",
    "$$ \\Gamma^{\\alpha}_{\\mu \\nu} = \\frac{1}{2} g^{\\alpha \\beta} \\left( \\partial_{\\mu} g_{\\nu \\beta} + \\partial_{\\nu} g_{\\mu \\beta} - \\partial_{\\beta} g_{\\mu \\nu} \\right) $$"
   ]
  },
  {
   "cell_type": "code",
   "execution_count": 22,
   "id": "ee804d7e-2ee9-4abc-9ccd-35308ec39700",
   "metadata": {
    "tags": []
   },
   "outputs": [],
   "source": [
    "def Gamma(T):\n",
    "    G = T['Metric']\n",
    "    N = T['Dimention']\n",
    "    basis = T['Basis']\n",
    "    A1 = smp.MutableDenseNDimArray(smp.zeros(N**3),(N,N,N))\n",
    "    ig = inv(T)\n",
    "    for i in range(N):\n",
    "        for j in range(N):\n",
    "            for k in range(N):\n",
    "                for d in range(N):\n",
    "                    A1[i, j, k] += smp.Rational(1, 2)*(ig[d,i])*(smp.diff(G[k,d],basis[j]) + smp.diff(G[d,j],basis[k]) - smp.diff(G[j,k],basis[d]))\n",
    "            \n",
    "    \n",
    "    return A1"
   ]
  },
  {
   "cell_type": "code",
   "execution_count": 23,
   "id": "cc0356d6-9b47-4ede-80af-878a7b3bb19b",
   "metadata": {},
   "outputs": [
    {
     "ename": "NameError",
     "evalue": "name 'Functions' is not defined",
     "output_type": "error",
     "traceback": [
      "\u001b[0;31m---------------------------------------------------------------------------\u001b[0m",
      "\u001b[0;31mNameError\u001b[0m                                 Traceback (most recent call last)",
      "Cell \u001b[0;32mIn[23], line 1\u001b[0m\n\u001b[0;32m----> 1\u001b[0m Instance \u001b[38;5;241m=\u001b[39m \u001b[43mFunctions\u001b[49m(MetricArray,BasisArray,Dimention)\n\u001b[1;32m      2\u001b[0m operations \u001b[38;5;241m=\u001b[39m {\n\u001b[1;32m      3\u001b[0m     \u001b[38;5;124m\"\u001b[39m\u001b[38;5;124mGamma\u001b[39m\u001b[38;5;124m\"\u001b[39m: Instance\u001b[38;5;241m.\u001b[39mGamma,\n\u001b[1;32m      4\u001b[0m     \u001b[38;5;124m\"\u001b[39m\u001b[38;5;124mDerivative\u001b[39m\u001b[38;5;124m\"\u001b[39m: Instance\u001b[38;5;241m.\u001b[39mDerivative,\n\u001b[0;32m   (...)\u001b[0m\n\u001b[1;32m     10\u001b[0m     \u001b[38;5;124m\"\u001b[39m\u001b[38;5;124mK-Scalar\u001b[39m\u001b[38;5;124m\"\u001b[39m:Instance\u001b[38;5;241m.\u001b[39mkscalar,\n\u001b[1;32m     11\u001b[0m }\n",
      "\u001b[0;31mNameError\u001b[0m: name 'Functions' is not defined"
     ]
    }
   ],
   "source": [
    "Instance = Functions(MetricArray,BasisArray,Dimention)\n",
    "operations = {\n",
    "    \"Gamma\": Instance.Gamma,\n",
    "    \"Derivative\": Instance.Derivative,\n",
    "    \"IMetric\": Instance.Ginv,\n",
    "    \"Ricci\":Instance.ric,\n",
    "    \"Covariant Riemann\":Instance.covriemann,\n",
    "    \"Riemann\":Instance.riemann,\n",
    "    \"Ricci Scalar\":Instance.ricscalar,\n",
    "    \"K-Scalar\":Instance.kscalar,\n",
    "}"
   ]
  },
  {
   "cell_type": "markdown",
   "id": "c2b0137b-12db-42b5-b883-b252f036f00b",
   "metadata": {
    "tags": []
   },
   "source": [
    "### The Covarient Derivatives"
   ]
  },
  {
   "cell_type": "markdown",
   "id": "b299950f-a86d-4277-8063-5b088fad60c8",
   "metadata": {},
   "source": [
    "Acting on: The Contravariant (1,0) Tensor (Vector) Field \n",
    "\n",
    "$$D_{\\mu}V^{\\nu} = {\\partial}_{\\mu}V^{\\nu} + {\\Gamma}^{\\nu}_{\\mu \\alpha}V^{\\alpha}$$"
   ]
  },
  {
   "cell_type": "code",
   "execution_count": 24,
   "id": "2c99f33e-a995-4286-82b8-ff0f82f6b910",
   "metadata": {},
   "outputs": [],
   "source": [
    "def CovariantD10(T, V):\n",
    "    N = T['Dimention']\n",
    "    basis = T['Basis']\n",
    "    C = Gamma(T)\n",
    "    DV = smp.MutableDenseNDimArray(smp.zeros(N**2),(N,N))\n",
    "    for i in range(N):\n",
    "        for j in range(N):\n",
    "            for k in range(N):\n",
    "                DV[i,j] += smp.Rational(1, N)*smp.diff(V[j],basis[i]) + C[j,i,k]*V[k]\n",
    "    return DV"
   ]
  },
  {
   "cell_type": "markdown",
   "id": "e4706013-ca41-477f-ae0f-6c3a0d6516bb",
   "metadata": {},
   "source": [
    "Acting on: The Covariant (0,1) Tensor (Vector) Field\n",
    "\n",
    "$$D_{\\mu}V_{\\nu} = {\\partial}_{\\mu}V_{\\nu} - {\\Gamma}^{\\alpha}_{\\mu \\nu}V_{\\alpha}$$"
   ]
  },
  {
   "cell_type": "code",
   "execution_count": 25,
   "id": "0e4a842d-fe07-4f22-861c-8ce0c9cd2857",
   "metadata": {},
   "outputs": [],
   "source": [
    "def CovariantD01(T, V):\n",
    "    N = T['Dimention']\n",
    "    basis = T['Basis']\n",
    "    C = Gamma(T)\n",
    "    DV = smp.MutableDenseNDimArray(smp.zeros(N**2),(N,N))\n",
    "    for i in range(N):\n",
    "        for j in range(N):\n",
    "            for k in range(N):\n",
    "                DV[i,j] += smp.Rational(1, N)*smp.diff(V[j],basis[i]) - C[k,i,j]*V[k]\n",
    "    return DV"
   ]
  },
  {
   "cell_type": "markdown",
   "id": "cc399325-1af1-468a-8082-c3089da1df0a",
   "metadata": {},
   "source": [
    "Acting on: Type (2,0) Tensor Field\n",
    "\n",
    "$$D_{\\alpha}T^{\\mu \\nu} = {\\partial}_{\\alpha}T^{\\mu \\nu} + {\\Gamma}^{\\mu}_{\\alpha \\gamma}T^{\\gamma \\nu} + {\\Gamma}^{\\nu}_{\\alpha \\gamma}T^{\\gamma \\mu}$$"
   ]
  },
  {
   "cell_type": "code",
   "execution_count": 26,
   "id": "62ccf500-496b-4dd8-af2b-a0b6b5d61794",
   "metadata": {},
   "outputs": [],
   "source": [
    "def CovariantD20(G, T):\n",
    "    N = G['Dimention']\n",
    "    basis = G['Basis']\n",
    "    C = Gamma(G)\n",
    "    DT = smp.MutableDenseNDimArray(smp.zeros(N**3),(N,N,N))\n",
    "    for i in range(N):\n",
    "        for j in range(N):\n",
    "            for k in range(N):\n",
    "                for p in range(N):\n",
    "                    DT[i,j,k] += smp.Rational(1, N)*smp.diff(T[j,k],basis[i]) + C[j,i,p]*T[p,k] + C[k,i,p]*T[p,j]\n",
    "    return DT"
   ]
  },
  {
   "cell_type": "markdown",
   "id": "5baab5a0-f8c7-450c-b002-56fbce5d4a78",
   "metadata": {},
   "source": [
    "Acting on: Type (0,2) Tensor Field\n",
    "\n",
    "$$D_{\\alpha}T_{\\mu \\nu} = {\\partial}_{\\alpha}T_{\\mu \\nu} - {\\Gamma}^{\\gamma}_{\\alpha \\mu}T_{\\gamma \\nu} - {\\Gamma}^{\\gamma}_{\\alpha \\nu}T_{\\gamma \\mu}$$"
   ]
  },
  {
   "cell_type": "code",
   "execution_count": 27,
   "id": "003c4f0e-912b-4eb4-bcdb-bc1487a74180",
   "metadata": {},
   "outputs": [],
   "source": [
    "def CovariantD02(G, T):\n",
    "    N = G['Dimention']\n",
    "    basis = G['Basis']\n",
    "    C = Gamma(G)\n",
    "    DT = smp.MutableDenseNDimArray(smp.zeros(N**3),(N,N,N))\n",
    "    for i in range(N):\n",
    "        for j in range(N):\n",
    "            for k in range(N):\n",
    "                for p in range(N):\n",
    "                    DT[i,j,k] += smp.Rational(1, N)*smp.diff(T[j,k],basis[i]) - C[p,i,j]*T[p,k] - C[p,i,k]*T[p,j]\n",
    "    return DT"
   ]
  },
  {
   "cell_type": "markdown",
   "id": "071b7886-3551-4630-a8b0-ca3fdcbd8506",
   "metadata": {},
   "source": [
    "Acting on: Type (1,1) Tensor Field\n",
    "\n",
    "$$D_{\\alpha}T^{\\mu}_{\\nu} = {\\partial}_{\\alpha}T^{\\mu}_{\\nu} + {\\Gamma}^{\\mu}_{\\alpha \\gamma}T^{\\gamma}_{\\nu} - {\\Gamma}^{\\gamma}_{\\alpha \\nu}T^{\\mu}_{\\gamma}$$"
   ]
  },
  {
   "cell_type": "code",
   "execution_count": 28,
   "id": "ed8e8d99-bbc5-4a99-9e4d-5292ff8bcf71",
   "metadata": {},
   "outputs": [],
   "source": [
    "def CovariantD11(G, T):\n",
    "    N = G['Dimention']\n",
    "    basis = G['Basis']\n",
    "    C = Gamma(G)\n",
    "    DT = smp.MutableDenseNDimArray(smp.zeros(N**3),(N,N,N))\n",
    "    for i in range(N):\n",
    "        for j in range(N):\n",
    "            for k in range(N):\n",
    "                for p in range(N):\n",
    "                    DT[i,j,k] += smp.Rational(1, N)*smp.diff(T[j,k],basis[i]) + C[j,i,p]*T[p,k] - C[p,i,k]*T[j,p]\n",
    "    return DT"
   ]
  },
  {
   "cell_type": "markdown",
   "id": "63b2c8c4-73c1-458a-82ca-067a87a648b4",
   "metadata": {
    "tags": []
   },
   "source": [
    "### The Riemannm Tensor\n",
    "\n",
    "$$ R^{ \\rho}_{\\sigma \\mu \\nu}  = {\\partial}_{\\mu} {\\Gamma}^{\\rho}_{\\nu \\sigma} - {\\partial}_{\\nu} {\\Gamma}^{\\rho}_{\\mu \\sigma} + {\\Gamma}^{\\rho}_{\\mu \\lambda}{\\Gamma}^{\\lambda}_{\\nu \\sigma} - {\\Gamma}^{\\rho}_{\\nu \\lambda}{\\Gamma}^{\\lambda}_{\\mu \\sigma} $$"
   ]
  },
  {
   "cell_type": "code",
   "execution_count": 29,
   "id": "fd73f37f-033c-4251-9427-cbc3e21d6986",
   "metadata": {
    "tags": []
   },
   "outputs": [],
   "source": [
    "def Riemann(M):\n",
    "    T = M['Metric']\n",
    "    N = M['Dimention']\n",
    "    basis = M['Basis']\n",
    "    G = Gamma(M)\n",
    "    R = smp.MutableDenseNDimArray(smp.zeros(N**4),(N,N,N,N))\n",
    "    for i in range(N):\n",
    "        for j in range(N):\n",
    "            for k in range(N):\n",
    "                for p in range(N):\n",
    "                    for d in range(N):\n",
    "                        R[i, j, k, p] += smp.Rational(1, N)*(smp.diff(G[i,p,j],basis[k])-\n",
    "                                                             smp.diff(G[i,k,j],basis[p]))+(G[i,k,d]*G[d,p,j]-G[i,p,d]*G[d,k,j])\n",
    "\n",
    "    \n",
    "    return R"
   ]
  },
  {
   "cell_type": "markdown",
   "id": "0670bd7d-8105-444a-9f4f-c97cf90b5642",
   "metadata": {},
   "source": [
    "Purely covariant Riemann tensor:\n",
    "    \n",
    "$$ R_{\\rho \\sigma \\mu \\nu} = g_{\\rho \\alpha}R^{\\alpha}_{\\sigma \\mu \\nu}$$"
   ]
  },
  {
   "cell_type": "code",
   "execution_count": 30,
   "id": "69484861-77f5-4f43-a599-d88ee4656320",
   "metadata": {
    "tags": []
   },
   "outputs": [],
   "source": [
    "def CovRiemann(T):\n",
    "    G = T['Metric']\n",
    "    N = T['Dimention']\n",
    "    basis = T['Basis']\n",
    "    R = Riemann(T)\n",
    "    RL = smp.MutableDenseNDimArray(smp.zeros(N**4),(N,N,N,N))\n",
    "    for i in range(N):\n",
    "        for j in range(N):\n",
    "            for k in range(N):\n",
    "                for p in range(N):\n",
    "                    for d in range(N):\n",
    "                        RL[i,j,k,p] += G[i,d]*R[d,j,k,p]\n",
    "    return RL"
   ]
  },
  {
   "cell_type": "markdown",
   "id": "b7ceb8f9-de99-401f-9da8-59249ca86a62",
   "metadata": {
    "tags": []
   },
   "source": [
    "### The Ricci Scalar\n",
    "\n",
    "$$ R = g^{\\mu \\nu}R_{\\mu \\nu}$$\n",
    "\n",
    "The Following function will take in the Metric and return the solution for the following equation:\n",
    "\n",
    "$$ R = g^{\\mu \\nu}R_{\\mu \\nu} = 0$$\n",
    "\n",
    "Remark: This is in fact the einstein equation for: $T_{\\mu \\nu}=0$ and $\\Lambda = 0$"
   ]
  },
  {
   "cell_type": "code",
   "execution_count": 31,
   "id": "e71387f4-379e-4612-9e3c-0b59cc4e6873",
   "metadata": {
    "tags": []
   },
   "outputs": [],
   "source": [
    "def RiccScalar(T):\n",
    "    G = T['Metric']\n",
    "    N = T['Dimention']\n",
    "    basis = T['Basis']\n",
    "    R = Ricci(T)\n",
    "    ig = inv(T)\n",
    "    S = float()\n",
    "    for d in range(N):\n",
    "        for s in range(N):\n",
    "            S = ig[d,s]*R[d,s]\n",
    "    return S"
   ]
  },
  {
   "cell_type": "markdown",
   "id": "72203068-79f7-4d82-9d6e-a34e1db06ad9",
   "metadata": {
    "tags": []
   },
   "source": [
    "### The Curvature Scalar\n",
    "\n",
    "$$ S = g^{\\sigma \\alpha}g^{\\rho \\beta}g^{\\mu \\gamma}g^{\\epsilon \\nu}R_{\\alpha \\beta \\mu \\nu} R_{\\sigma \\rho \\gamma \\epsilon} = R^{\\sigma \\rho \\gamma \\epsilon}R_{\\sigma \\rho \\gamma \\epsilon}$$"
   ]
  },
  {
   "cell_type": "code",
   "execution_count": 32,
   "id": "0920070b-c5c0-413f-b15f-5615c3375ab2",
   "metadata": {
    "tags": []
   },
   "outputs": [],
   "source": [
    "def CurvScalar(T):\n",
    "    G = T['Metric']\n",
    "    N = T['Dimention']\n",
    "    basis = T['Basis']\n",
    "    R = CovRiemann(T)\n",
    "    ig = inv(T)\n",
    "    CS = float()\n",
    "    for i in range(N):\n",
    "        for j in range(N):\n",
    "            for k in range(N):\n",
    "                for p in range(N):\n",
    "                    for d in range(N):\n",
    "                        for n in range(N):\n",
    "                            for s in range(N):\n",
    "                                for t in range(N):\n",
    "                                    CS += ig[i,j]*ig[k,p]*ig[d,n]*ig[s,t]*R[i,k,d,s]*R[j,p,d,s]\n",
    "    return CS"
   ]
  },
  {
   "cell_type": "markdown",
   "id": "d25af766-92e0-4108-b6d4-ca955643eee5",
   "metadata": {
    "tags": []
   },
   "source": [
    "### The Geodesic Equation\n",
    "\n",
    "\n",
    "$$\n",
    "x^{\\mu} := [t(\\tau), r(\\tau), \\theta(\\tau), \\phi(\\tau)]\n",
    "\\newline\n",
    "Geo^{\\mu} := \\frac{d^2{x^{\\mu}}}{d{\\tau^2}} + \\Gamma^{\\mu}_{\\alpha \\beta} \\frac{d{x^{\\alpha}}}{d\\tau}\\frac{d{x^{\\beta}}}{d{\\tau}}\n",
    "\\newline\n",
    "\\newline\n",
    "solve Geo$$"
   ]
  },
  {
   "cell_type": "code",
   "execution_count": 33,
   "id": "7a6ed027-0941-46c7-ba2b-2e44a8da040a",
   "metadata": {},
   "outputs": [],
   "source": [
    "def Geodesic(T):\n",
    "    N = T['Dimention']\n",
    "    basis = T['Basis']\n",
    "    P = T['Basis_Parameter']\n",
    "    C = Gamma(T)\n",
    "    Geo = smp.MutableDenseNDimArray(smp.zeros(N),(N))\n",
    "    for i in range(N):\n",
    "        for j in range(N):\n",
    "            for k in range(N):\n",
    "                Geo[[i]] += smp.Rational(1, N**2)*(smp.diff(basis[i], tau, tau)) + C[i, j, k]*(smp.diff(basis[j], tau))*(smp.diff(basis[k], tau))\n",
    "    return Geo"
   ]
  },
  {
   "cell_type": "markdown",
   "id": "2ae1fc9a-db49-4398-94c5-f7749b1e9fc2",
   "metadata": {
    "tags": []
   },
   "source": [
    "### The Euler-Lagrange Equation in GR"
   ]
  },
  {
   "cell_type": "markdown",
   "id": "6f5f25a4-6726-4057-b77d-10f85ab436e0",
   "metadata": {},
   "source": [
    "<b> First we define the Lagrangian above:\n",
    "    \n",
    "\n",
    "$$ L := \\sqrt{-g_{\\mu \\nu}\\frac{dx^{\\mu}}{d\\tau}\\frac{dx^{\\nu}}{d\\tau}} $$"
   ]
  },
  {
   "cell_type": "code",
   "execution_count": 34,
   "id": "026c5cce-284f-4b92-95ac-b09322ee02ea",
   "metadata": {},
   "outputs": [],
   "source": [
    "def Lagrangian(T):\n",
    "    G = T['Metric']\n",
    "    N = T['Dimention']\n",
    "    basis = T['Basis']\n",
    "    P = T['Basis_Parameter']\n",
    "    L = float()\n",
    "    for i in range(N):\n",
    "        for j in range(N):\n",
    "            L += - G[i,j]*smp.diff(P[i], tau)*smp.diff(P[j], tau)\n",
    "    \n",
    "    return smp.sqrt(L)"
   ]
  },
  {
   "cell_type": "markdown",
   "id": "39f1b2a9-f3dd-4489-aef5-c776b07fba6c",
   "metadata": {},
   "source": [
    "<b> Second, we define the Euler-Lagrange Equations:\n",
    "    \n",
    "$$ \\frac{\\partial L}{\\partial x^{\\alpha}} - \\frac{d}{d\\tau}\\frac{\\partial L}{\\partial \\frac{\\partial x^{\\alpha}}{\\partial \\tau}}=0$$\n",
    "    \n",
    "Note: To greatly simplify these equations, the code sets the lagrangian equal to 1 in each iteration of calculation. We are allowed to do this because we can arbitrarily set the length of the geodesic equation to be what we like. The path itself is what we are interested in, the length of the path is really just not so important. All we are doing by setting $L=1$ at the end of our calculations is setting the length of our geodesic curve, parametrixzed by $\\tau$ to be $length = 1$ "
   ]
  },
  {
   "cell_type": "code",
   "execution_count": 35,
   "id": "210cde38-1249-41d3-8828-b6609c75a09f",
   "metadata": {},
   "outputs": [],
   "source": [
    "def Euler_Lagrange(L, T):\n",
    "    N = T['Dimention']\n",
    "    basis = T['Basis']\n",
    "    P = T['Basis_Parameter']\n",
    "    \n",
    "    dpdt = smp.MutableDenseNDimArray(smp.zeros(N),(N))\n",
    "    for i in range(N):\n",
    "        dpdt[[i]] = smp.diff(P[i],tau)\n",
    "    \n",
    "    A = smp.MutableDenseNDimArray(smp.zeros(N),(N))\n",
    "    B = smp.MutableDenseNDimArray(smp.zeros(N),(N))\n",
    "    for i in range(N):\n",
    "        B[[i]] = smp.diff(L, dpdt[i])\n",
    "    for i in range(N):\n",
    "        A[[i]] = B[i].subs(L, 1)\n",
    "    \n",
    "    C = smp.MutableDenseNDimArray(smp.zeros(N),(N))\n",
    "    D = smp.MutableDenseNDimArray(smp.zeros(N),(N))\n",
    "    for i in range(N):\n",
    "        C[[i]] = smp.diff(L, P[i])\n",
    "    for i in range(N):\n",
    "        D[[i]] = C[i].subs(L, 1)\n",
    "    \n",
    "    La = smp.MutableDenseNDimArray(smp.zeros(N),(N))\n",
    "    for i in range(N):\n",
    "            La[[i]] = D[i] - smp.diff(A[i], tau)\n",
    "    \n",
    "    return La"
   ]
  },
  {
   "cell_type": "markdown",
   "id": "2ae89668-0fc5-4fd2-840f-5a1d0208d1da",
   "metadata": {
    "tags": []
   },
   "source": [
    "### The Einstein Field Equations\n",
    "\n",
    "$$ R_{\\mu \\nu} - \\frac{1}{2} g_{\\mu \\nu} R + g_{\\mu \\nu} \\frac{\\Lambda}{c^2} = \\frac{8 \\pi G_N}{c^4} T_{\\mu \\nu}$$\n",
    "\n",
    "However, firstly we are working with the units $c=1$ and secondly, we must rearange the equation into a form which allows us to create a SymPy function for it and furthermore, we will only work with metrics of dimention 4 with this equation in particular:\n",
    "\n",
    "$$ R_{\\mu \\nu} - \\frac{1}{2} g_{\\mu \\nu} R + g_{\\mu \\nu}\\Lambda - 8 \\pi G T_{\\mu \\nu} = 0$$\n",
    "\n",
    "Important remark: Before using this function, make sure you have the right form of the energy momentum you are trying to find the metric solution for.\n",
    "Exmaple: Suppose you wish to find the metric for a charged black hole, do not mistake the Stress-Energy Tensor $T_{\\mu \\nu}$ with the electromagnetic tensor $F_{\\mu \\nu}$. If you are familiar with physcis, you will know one is determined from the other by the following equation:\n",
    "\n",
    "$$T_{\\mu \\nu} = F_{\\mu \\lambda} F_{\\nu}^{\\lambda} - \\frac{1}{4}g^{\\mu \\nu}F_{\\alpha \\beta}F^{\\alpha \\beta}$$"
   ]
  },
  {
   "cell_type": "code",
   "execution_count": 36,
   "id": "eec2de29-3c62-40df-a251-e4fb5602761d",
   "metadata": {},
   "outputs": [],
   "source": [
    "def Einstein(G, E, T):\n",
    "    g = self.Metric\n",
    "    T = self.StressEnergy\n",
    "    D = self.Dimention\n",
    "    \n",
    "    Lambda  = smp.symbols('Lambda')\n",
    "    Ric = Ricci(G)\n",
    "    RScalar = RiccScalar(G)\n",
    "    E = smp.MutableDenseNDimArray(smp.zeros(N**2),(N,N))\n",
    "    for i in range(N):\n",
    "        for j in range(N):\n",
    "                E[i,j] = Ric[i,j] - smp.Rational(1,2)*g[i,j]*RScalar + (Lambda)*G[i,j] - (8*smp.pi)*T[i,j]\n",
    "    return E\n",
    "\n",
    "def EM_StressEnergy(self, Electromagnetic_Tensor = []):\n",
    "    F0 = Electromagnetic_Tensor\n",
    "    \n",
    "    F_ud = smp.MutableDenseNDimArray(smp.zeros(N**2),(N,N))\n",
    "    for i in range(4):\n",
    "        for j in range(4):\n",
    "            for d in range(4):\n",
    "                F_ud[i,j] = Ginv[i,d]*F0[d,j]\n",
    "    F1 = F_ud\n",
    "    \n",
    "    F_uu = smp.MutableDenseNDimArray(smp.zeros(N**2),(N,N))\n",
    "    for i in range(4):\n",
    "        for j in range(4):\n",
    "            for d in range(4):\n",
    "                for s in range(4):\n",
    "                    F_uu[i,j] = Ginv[i,d]*F0[d,s]*Ginv[s,j]\n",
    "    \n",
    "    F2 = F_uu\n",
    "    T = smp.MutableDenseNDimArray(smp.zeros(N**2),(N,N))\n",
    "    for i in range(4):\n",
    "        for j in range(4):\n",
    "            for k in range(4):\n",
    "                for s in range(4):\n",
    "                    for d in range(4):\n",
    "                        T[i,j] += F0[i,d]*F2[d,s] - (1/4)*G[i,j]*F0[k,s]*F1[k,s]\n",
    "    return T"
   ]
  },
  {
   "cell_type": "markdown",
   "id": "b0f915d8-3779-45b6-a496-ced5c3000a91",
   "metadata": {
    "tags": []
   },
   "source": [
    "### The Ricci Tensor\n",
    "\n",
    "$$ R_{\\mu \\nu} = g^{\\alpha \\beta} R_{\\alpha \\mu \\beta \\nu}$$"
   ]
  },
  {
   "cell_type": "code",
   "execution_count": 37,
   "id": "7f74956a-7737-416a-a119-f504f1ea6995",
   "metadata": {},
   "outputs": [
    {
     "data": {
      "text/plain": [
       "(3, 3)"
      ]
     },
     "execution_count": 37,
     "metadata": {},
     "output_type": "execute_result"
    }
   ],
   "source": [
    "def Ricci(T):\n",
    "    G = T['Metric']\n",
    "    N = T['Dimention']\n",
    "    basis = T['Basis']\n",
    "    ig = inv(T)\n",
    "    RL = CovRiemann(T)\n",
    "    Ric = smp.MutableDenseNDimArray(smp.zeros(N**2),(N,N))\n",
    "    for i in range(N):\n",
    "        for j in range(N):\n",
    "            for d in range(N):\n",
    "                for s in range(N):\n",
    "                    Ric[i,j] += ig[d,s]*RL[d,i,s,j]\n",
    "    return Ric\n",
    "\n",
    "A = smp.MutableDenseNDimArray([[1,1,1],[1,1,1],[1,1,1]])\n",
    "B = smp.MutableDenseNDimArray([[1,1,1],[1,1,1],[1,1,1]])\n",
    "C = smp.MutableDenseNDimArray(1)\n",
    "\n",
    "smp.shape(B) + smp.shape(C)"
   ]
  },
  {
   "cell_type": "code",
   "execution_count": null,
   "id": "e8451157-7d01-4b3c-bb89-159dbf54795d",
   "metadata": {},
   "outputs": [],
   "source": []
  },
  {
   "cell_type": "code",
   "execution_count": 38,
   "id": "b18a239a-31eb-4fe4-a1de-88cb91f9fb01",
   "metadata": {},
   "outputs": [
    {
     "ename": "ValueError",
     "evalue": "could not determine shape unambiguously",
     "output_type": "error",
     "traceback": [
      "\u001b[0;31m---------------------------------------------------------------------------\u001b[0m",
      "\u001b[0;31mValueError\u001b[0m                                Traceback (most recent call last)",
      "Cell \u001b[0;32mIn[38], line 1\u001b[0m\n\u001b[0;32m----> 1\u001b[0m M \u001b[38;5;241m=\u001b[39m \u001b[43msmp\u001b[49m\u001b[38;5;241;43m.\u001b[39;49m\u001b[43mMutableDenseNDimArray\u001b[49m\u001b[43m(\u001b[49m\u001b[43m[\u001b[49m\u001b[43m[\u001b[49m\u001b[38;5;241;43m-\u001b[39;49m\u001b[43mA\u001b[49m\u001b[43m,\u001b[49m\u001b[38;5;241;43m0\u001b[39;49m\u001b[43m,\u001b[49m\u001b[38;5;241;43m0\u001b[39;49m\u001b[43m,\u001b[49m\u001b[38;5;241;43m0\u001b[39;49m\u001b[43m]\u001b[49m\u001b[43m,\u001b[49m\u001b[43m[\u001b[49m\u001b[38;5;241;43m0\u001b[39;49m\u001b[43m,\u001b[49m\u001b[43mB\u001b[49m\u001b[43m,\u001b[49m\u001b[38;5;241;43m0\u001b[39;49m\u001b[43m,\u001b[49m\u001b[38;5;241;43m0\u001b[39;49m\u001b[43m]\u001b[49m\u001b[43m,\u001b[49m\u001b[43m[\u001b[49m\u001b[38;5;241;43m0\u001b[39;49m\u001b[43m,\u001b[49m\u001b[38;5;241;43m0\u001b[39;49m\u001b[43m,\u001b[49m\u001b[43mr\u001b[49m\u001b[38;5;241;43m*\u001b[39;49m\u001b[38;5;241;43m*\u001b[39;49m\u001b[38;5;241;43m2\u001b[39;49m\u001b[43m,\u001b[49m\u001b[38;5;241;43m0\u001b[39;49m\u001b[43m]\u001b[49m\u001b[43m,\u001b[49m\u001b[43m[\u001b[49m\u001b[38;5;241;43m0\u001b[39;49m\u001b[43m,\u001b[49m\u001b[38;5;241;43m0\u001b[39;49m\u001b[43m,\u001b[49m\u001b[38;5;241;43m0\u001b[39;49m\u001b[43m,\u001b[49m\u001b[43mr\u001b[49m\u001b[38;5;241;43m*\u001b[39;49m\u001b[38;5;241;43m*\u001b[39;49m\u001b[38;5;241;43m2\u001b[39;49m\u001b[38;5;241;43m*\u001b[39;49m\u001b[43msmp\u001b[49m\u001b[38;5;241;43m.\u001b[39;49m\u001b[43msin\u001b[49m\u001b[43m(\u001b[49m\u001b[43mtheta\u001b[49m\u001b[43m)\u001b[49m\u001b[38;5;241;43m*\u001b[39;49m\u001b[38;5;241;43m*\u001b[39;49m\u001b[38;5;241;43m2\u001b[39;49m\u001b[43m]\u001b[49m\u001b[43m]\u001b[49m\u001b[43m)\u001b[49m\n",
      "File \u001b[0;32m~/code/projects/general_relativity/.venv/lib/python3.11/site-packages/sympy/tensor/array/dense_ndim_array.py:163\u001b[0m, in \u001b[0;36mMutableDenseNDimArray.__new__\u001b[0;34m(cls, iterable, shape, **kwargs)\u001b[0m\n\u001b[1;32m    162\u001b[0m \u001b[38;5;28;01mdef\u001b[39;00m \u001b[38;5;21m__new__\u001b[39m(\u001b[38;5;28mcls\u001b[39m, iterable\u001b[38;5;241m=\u001b[39m\u001b[38;5;28;01mNone\u001b[39;00m, shape\u001b[38;5;241m=\u001b[39m\u001b[38;5;28;01mNone\u001b[39;00m, \u001b[38;5;241m*\u001b[39m\u001b[38;5;241m*\u001b[39mkwargs):\n\u001b[0;32m--> 163\u001b[0m     \u001b[38;5;28;01mreturn\u001b[39;00m \u001b[38;5;28;43mcls\u001b[39;49m\u001b[38;5;241;43m.\u001b[39;49m\u001b[43m_new\u001b[49m\u001b[43m(\u001b[49m\u001b[43miterable\u001b[49m\u001b[43m,\u001b[49m\u001b[43m \u001b[49m\u001b[43mshape\u001b[49m\u001b[43m,\u001b[49m\u001b[43m \u001b[49m\u001b[38;5;241;43m*\u001b[39;49m\u001b[38;5;241;43m*\u001b[39;49m\u001b[43mkwargs\u001b[49m\u001b[43m)\u001b[49m\n",
      "File \u001b[0;32m~/code/projects/general_relativity/.venv/lib/python3.11/site-packages/sympy/tensor/array/dense_ndim_array.py:167\u001b[0m, in \u001b[0;36mMutableDenseNDimArray._new\u001b[0;34m(cls, iterable, shape, **kwargs)\u001b[0m\n\u001b[1;32m    165\u001b[0m \u001b[38;5;129m@classmethod\u001b[39m\n\u001b[1;32m    166\u001b[0m \u001b[38;5;28;01mdef\u001b[39;00m \u001b[38;5;21m_new\u001b[39m(\u001b[38;5;28mcls\u001b[39m, iterable, shape, \u001b[38;5;241m*\u001b[39m\u001b[38;5;241m*\u001b[39mkwargs):\n\u001b[0;32m--> 167\u001b[0m     shape, flat_list \u001b[38;5;241m=\u001b[39m \u001b[38;5;28;43mcls\u001b[39;49m\u001b[38;5;241;43m.\u001b[39;49m\u001b[43m_handle_ndarray_creation_inputs\u001b[49m\u001b[43m(\u001b[49m\u001b[43miterable\u001b[49m\u001b[43m,\u001b[49m\u001b[43m \u001b[49m\u001b[43mshape\u001b[49m\u001b[43m,\u001b[49m\u001b[43m \u001b[49m\u001b[38;5;241;43m*\u001b[39;49m\u001b[38;5;241;43m*\u001b[39;49m\u001b[43mkwargs\u001b[49m\u001b[43m)\u001b[49m\n\u001b[1;32m    168\u001b[0m     flat_list \u001b[38;5;241m=\u001b[39m flatten(flat_list)\n\u001b[1;32m    169\u001b[0m     \u001b[38;5;28mself\u001b[39m \u001b[38;5;241m=\u001b[39m \u001b[38;5;28mobject\u001b[39m\u001b[38;5;241m.\u001b[39m\u001b[38;5;21m__new__\u001b[39m(\u001b[38;5;28mcls\u001b[39m)\n",
      "File \u001b[0;32m~/code/projects/general_relativity/.venv/lib/python3.11/site-packages/sympy/tensor/array/ndim_array.py:234\u001b[0m, in \u001b[0;36mNDimArray._handle_ndarray_creation_inputs\u001b[0;34m(cls, iterable, shape, **kwargs)\u001b[0m\n\u001b[1;32m    232\u001b[0m \u001b[38;5;66;03m# Construct N-dim array from an iterable (numpy arrays included):\u001b[39;00m\n\u001b[1;32m    233\u001b[0m \u001b[38;5;28;01melif\u001b[39;00m \u001b[38;5;28misinstance\u001b[39m(iterable, Iterable):\n\u001b[0;32m--> 234\u001b[0m     iterable, shape \u001b[38;5;241m=\u001b[39m \u001b[38;5;28;43mcls\u001b[39;49m\u001b[38;5;241;43m.\u001b[39;49m\u001b[43m_scan_iterable_shape\u001b[49m\u001b[43m(\u001b[49m\u001b[43miterable\u001b[49m\u001b[43m)\u001b[49m\n\u001b[1;32m    236\u001b[0m \u001b[38;5;66;03m# Construct N-dim array from a Matrix:\u001b[39;00m\n\u001b[1;32m    237\u001b[0m \u001b[38;5;28;01melif\u001b[39;00m \u001b[38;5;28misinstance\u001b[39m(iterable, MatrixBase):\n",
      "File \u001b[0;32m~/code/projects/general_relativity/.venv/lib/python3.11/site-packages/sympy/tensor/array/ndim_array.py:213\u001b[0m, in \u001b[0;36mNDimArray._scan_iterable_shape\u001b[0;34m(cls, iterable)\u001b[0m\n\u001b[1;32m    210\u001b[0m         result\u001b[38;5;241m.\u001b[39mextend(i)\n\u001b[1;32m    211\u001b[0m     \u001b[38;5;28;01mreturn\u001b[39;00m result, (\u001b[38;5;28mlen\u001b[39m(shapes),)\u001b[38;5;241m+\u001b[39mshapes[\u001b[38;5;241m0\u001b[39m]\n\u001b[0;32m--> 213\u001b[0m \u001b[38;5;28;01mreturn\u001b[39;00m \u001b[43mf\u001b[49m\u001b[43m(\u001b[49m\u001b[43miterable\u001b[49m\u001b[43m)\u001b[49m\n",
      "File \u001b[0;32m~/code/projects/general_relativity/.venv/lib/python3.11/site-packages/sympy/tensor/array/ndim_array.py:206\u001b[0m, in \u001b[0;36mNDimArray._scan_iterable_shape.<locals>.f\u001b[0;34m(pointer)\u001b[0m\n\u001b[1;32m    203\u001b[0m     \u001b[38;5;28;01mreturn\u001b[39;00m [], (\u001b[38;5;241m0\u001b[39m,)\n\u001b[1;32m    205\u001b[0m result \u001b[38;5;241m=\u001b[39m []\n\u001b[0;32m--> 206\u001b[0m elems, shapes \u001b[38;5;241m=\u001b[39m \u001b[38;5;28mzip\u001b[39m(\u001b[38;5;241m*\u001b[39m\u001b[43m[\u001b[49m\u001b[43mf\u001b[49m\u001b[43m(\u001b[49m\u001b[43mi\u001b[49m\u001b[43m)\u001b[49m\u001b[43m \u001b[49m\u001b[38;5;28;43;01mfor\u001b[39;49;00m\u001b[43m \u001b[49m\u001b[43mi\u001b[49m\u001b[43m \u001b[49m\u001b[38;5;129;43;01min\u001b[39;49;00m\u001b[43m \u001b[49m\u001b[43mpointer\u001b[49m\u001b[43m]\u001b[49m)\n\u001b[1;32m    207\u001b[0m \u001b[38;5;28;01mif\u001b[39;00m \u001b[38;5;28mlen\u001b[39m(\u001b[38;5;28mset\u001b[39m(shapes)) \u001b[38;5;241m!=\u001b[39m \u001b[38;5;241m1\u001b[39m:\n\u001b[1;32m    208\u001b[0m     \u001b[38;5;28;01mraise\u001b[39;00m \u001b[38;5;167;01mValueError\u001b[39;00m(\u001b[38;5;124m\"\u001b[39m\u001b[38;5;124mcould not determine shape unambiguously\u001b[39m\u001b[38;5;124m\"\u001b[39m)\n",
      "File \u001b[0;32m~/code/projects/general_relativity/.venv/lib/python3.11/site-packages/sympy/tensor/array/ndim_array.py:206\u001b[0m, in \u001b[0;36m<listcomp>\u001b[0;34m(.0)\u001b[0m\n\u001b[1;32m    203\u001b[0m     \u001b[38;5;28;01mreturn\u001b[39;00m [], (\u001b[38;5;241m0\u001b[39m,)\n\u001b[1;32m    205\u001b[0m result \u001b[38;5;241m=\u001b[39m []\n\u001b[0;32m--> 206\u001b[0m elems, shapes \u001b[38;5;241m=\u001b[39m \u001b[38;5;28mzip\u001b[39m(\u001b[38;5;241m*\u001b[39m[\u001b[43mf\u001b[49m\u001b[43m(\u001b[49m\u001b[43mi\u001b[49m\u001b[43m)\u001b[49m \u001b[38;5;28;01mfor\u001b[39;00m i \u001b[38;5;129;01min\u001b[39;00m pointer])\n\u001b[1;32m    207\u001b[0m \u001b[38;5;28;01mif\u001b[39;00m \u001b[38;5;28mlen\u001b[39m(\u001b[38;5;28mset\u001b[39m(shapes)) \u001b[38;5;241m!=\u001b[39m \u001b[38;5;241m1\u001b[39m:\n\u001b[1;32m    208\u001b[0m     \u001b[38;5;28;01mraise\u001b[39;00m \u001b[38;5;167;01mValueError\u001b[39;00m(\u001b[38;5;124m\"\u001b[39m\u001b[38;5;124mcould not determine shape unambiguously\u001b[39m\u001b[38;5;124m\"\u001b[39m)\n",
      "File \u001b[0;32m~/code/projects/general_relativity/.venv/lib/python3.11/site-packages/sympy/tensor/array/ndim_array.py:208\u001b[0m, in \u001b[0;36mNDimArray._scan_iterable_shape.<locals>.f\u001b[0;34m(pointer)\u001b[0m\n\u001b[1;32m    206\u001b[0m elems, shapes \u001b[38;5;241m=\u001b[39m \u001b[38;5;28mzip\u001b[39m(\u001b[38;5;241m*\u001b[39m[f(i) \u001b[38;5;28;01mfor\u001b[39;00m i \u001b[38;5;129;01min\u001b[39;00m pointer])\n\u001b[1;32m    207\u001b[0m \u001b[38;5;28;01mif\u001b[39;00m \u001b[38;5;28mlen\u001b[39m(\u001b[38;5;28mset\u001b[39m(shapes)) \u001b[38;5;241m!=\u001b[39m \u001b[38;5;241m1\u001b[39m:\n\u001b[0;32m--> 208\u001b[0m     \u001b[38;5;28;01mraise\u001b[39;00m \u001b[38;5;167;01mValueError\u001b[39;00m(\u001b[38;5;124m\"\u001b[39m\u001b[38;5;124mcould not determine shape unambiguously\u001b[39m\u001b[38;5;124m\"\u001b[39m)\n\u001b[1;32m    209\u001b[0m \u001b[38;5;28;01mfor\u001b[39;00m i \u001b[38;5;129;01min\u001b[39;00m elems:\n\u001b[1;32m    210\u001b[0m     result\u001b[38;5;241m.\u001b[39mextend(i)\n",
      "\u001b[0;31mValueError\u001b[0m: could not determine shape unambiguously"
     ]
    }
   ],
   "source": [
    "M = smp.MutableDenseNDimArray([[-A,0,0,0],[0,B,0,0],[0,0,r**2,0],[0,0,0,r**2*smp.sin(theta)**2]])"
   ]
  },
  {
   "cell_type": "code",
   "execution_count": null,
   "id": "8dcd5b70-4588-4d93-aba6-ba9361d48152",
   "metadata": {},
   "outputs": [],
   "source": []
  },
  {
   "cell_type": "code",
   "execution_count": null,
   "id": "c795a8e5-abdb-4c88-9c03-f983f994f6ae",
   "metadata": {},
   "outputs": [],
   "source": []
  },
  {
   "cell_type": "markdown",
   "id": "62d0a8a1-1b2e-4fa3-b9ac-32e8380d099d",
   "metadata": {},
   "source": [
    "$$ A_{abc}B_{defg} \\rightarrow C_{cfg} = A_{abc}B_{abfg}$$"
   ]
  },
  {
   "cell_type": "code",
   "execution_count": null,
   "id": "ad97d713-2de1-4113-aa80-3bc72e0d5f7c",
   "metadata": {},
   "outputs": [],
   "source": []
  },
  {
   "cell_type": "code",
   "execution_count": 39,
   "id": "63dfb192-1f04-46f4-8fd5-6d44b2191051",
   "metadata": {},
   "outputs": [
    {
     "data": {
      "text/latex": [
       "$\\displaystyle \\left[\\begin{matrix}\\frac{\\frac{d^{2}}{d r^{2}} A{\\left(r \\right)}}{2 B{\\left(r \\right)}} - \\frac{\\frac{d}{d r} A{\\left(r \\right)} \\frac{d}{d r} B{\\left(r \\right)}}{4 B^{2}{\\left(r \\right)}} - \\frac{\\left(\\frac{d}{d r} A{\\left(r \\right)}\\right)^{2}}{4 A{\\left(r \\right)} B{\\left(r \\right)}} + \\frac{\\frac{d}{d r} A{\\left(r \\right)}}{r B{\\left(r \\right)}} & 0 & 0 & 0\\\\0 & - \\frac{\\frac{d^{2}}{d r^{2}} A{\\left(r \\right)}}{2 A{\\left(r \\right)}} + \\frac{\\frac{d}{d r} A{\\left(r \\right)} \\frac{d}{d r} B{\\left(r \\right)}}{4 A{\\left(r \\right)} B{\\left(r \\right)}} + \\frac{\\left(\\frac{d}{d r} A{\\left(r \\right)}\\right)^{2}}{4 A^{2}{\\left(r \\right)}} + \\frac{\\frac{d}{d r} B{\\left(r \\right)}}{r B{\\left(r \\right)}} & 0 & 0\\\\0 & 0 & \\frac{r \\frac{d}{d r} B{\\left(r \\right)}}{2 B^{2}{\\left(r \\right)}} - \\frac{r \\frac{d}{d r} A{\\left(r \\right)}}{2 A{\\left(r \\right)} B{\\left(r \\right)}} + 1 - \\frac{1}{B{\\left(r \\right)}} & 0\\\\0 & 0 & 0 & \\frac{r \\sin^{2}{\\left(\\theta \\right)} \\frac{d}{d r} B{\\left(r \\right)}}{2 B^{2}{\\left(r \\right)}} - \\frac{r \\sin^{2}{\\left(\\theta \\right)} \\frac{d}{d r} A{\\left(r \\right)}}{2 A{\\left(r \\right)} B{\\left(r \\right)}} + \\sin^{2}{\\left(\\theta \\right)} - \\frac{\\sin^{2}{\\left(\\theta \\right)}}{B{\\left(r \\right)}}\\end{matrix}\\right]$"
      ],
      "text/plain": [
       "[[Derivative(A(r), (r, 2))/(2*B(r)) - Derivative(A(r), r)*Derivative(B(r), r)/(4*B(r)**2) - Derivative(A(r), r)**2/(4*A(r)*B(r)) + Derivative(A(r), r)/(r*B(r)), 0, 0, 0], [0, -Derivative(A(r), (r, 2))/(2*A(r)) + Derivative(A(r), r)*Derivative(B(r), r)/(4*A(r)*B(r)) + Derivative(A(r), r)**2/(4*A(r)**2) + Derivative(B(r), r)/(r*B(r)), 0, 0], [0, 0, r*Derivative(B(r), r)/(2*B(r)**2) - r*Derivative(A(r), r)/(2*A(r)*B(r)) + 1 - 1/B(r), 0], [0, 0, 0, r*sin(theta)**2*Derivative(B(r), r)/(2*B(r)**2) - r*sin(theta)**2*Derivative(A(r), r)/(2*A(r)*B(r)) + sin(theta)**2 - sin(theta)**2/B(r)]]"
      ]
     },
     "execution_count": 39,
     "metadata": {},
     "output_type": "execute_result"
    }
   ],
   "source": [
    "Ricci(SSM)"
   ]
  },
  {
   "cell_type": "markdown",
   "id": "ffd20423-78b6-4820-8bf1-18137a9a7058",
   "metadata": {
    "tags": []
   },
   "source": [
    "# <center>Calculating the Schwarzschild solution<center>"
   ]
  },
  {
   "cell_type": "code",
   "execution_count": 40,
   "id": "ea95db9b-e096-4091-a1bc-056d0caa0887",
   "metadata": {
    "tags": []
   },
   "outputs": [
    {
     "data": {
      "text/latex": [
       "$\\displaystyle - \\frac{\\frac{d^{2}}{d r^{2}} A{\\left(r \\right)}}{2 A{\\left(r \\right)}} + \\frac{\\frac{d}{d r} A{\\left(r \\right)} \\frac{d}{d r} B{\\left(r \\right)}}{4 A{\\left(r \\right)} B{\\left(r \\right)}} + \\frac{\\left(\\frac{d}{d r} A{\\left(r \\right)}\\right)^{2}}{4 A^{2}{\\left(r \\right)}} + \\frac{\\frac{d}{d r} B{\\left(r \\right)}}{r B{\\left(r \\right)}}$"
      ],
      "text/plain": [
       "-Derivative(A(r), (r, 2))/(2*A(r)) + Derivative(A(r), r)*Derivative(B(r), r)/(4*A(r)*B(r)) + Derivative(A(r), r)**2/(4*A(r)**2) + Derivative(B(r), r)/(r*B(r))"
      ]
     },
     "execution_count": 40,
     "metadata": {},
     "output_type": "execute_result"
    }
   ],
   "source": [
    "eq1 = Ricci(SSM)[0,0].simplify()\n",
    "eq2 = Ricci(SSM)[1,1].simplify()\n",
    "eq3 = Ricci(SSM)[2,2].simplify()\n",
    "eq4 = Ricci(SSM)[3,3].simplify()\n",
    "eq2"
   ]
  },
  {
   "cell_type": "markdown",
   "id": "d3b61824-c35f-47e2-9df6-f9f1047845d6",
   "metadata": {},
   "source": [
    "\n",
    "We have the following:\n",
    "\n",
    "$R_{t t} = 0 \\Leftrightarrow $ Equation 1: $$ \\frac{A''}{2B} - \\frac{A'B'}{4B^2} - \\frac{(A')^2}{4AB} + \\frac{A'}{rB}= 0$$\n",
    "\n",
    "$R_{r r} = 0 \\Leftrightarrow $ Equation 2: $$ \\frac{A''}{2A} + \\frac{A'B'}{4AB} + \\frac{(A')^2}{4A^2} + \\frac{B'}{rB} = 0$$\n",
    "\n",
    "$R_{\\theta \\theta} = 0 \\Leftrightarrow $ Equation 3: $$ \\frac{rB}{2B^2} - \\frac{rA'}{2AB} + 1 + \\frac{1}{B} = 0$$\n",
    "\n",
    "$R_{\\phi \\phi} = 0 \\Leftrightarrow $ Equation 4: $$ \\sin^2(\\theta) \\left(\\frac{rAB'}{2AB^2} - \\frac{rBA'}{2AB^2} + 1 - \\frac{1}{B} \\right) = 0$$\n",
    "\n",
    "It is easy to see how one might simplify these, but lets skip ahead and combine some of these to get to what we want. (Expressions of $A(r)$ and $B(r)$.) Namely, we will do the following to Equation 1 and Equation 2:\n",
    "\n",
    "Define a new Equation 5: $$ \\left( B \\times Equation1 + A \\times Equation2 \\right) \\times (rB)$$"
   ]
  },
  {
   "cell_type": "code",
   "execution_count": 41,
   "id": "5f27a21a-b7cc-47ee-ab17-2490fd0f175a",
   "metadata": {},
   "outputs": [],
   "source": [
    "B = smp.Function('B')(r)\n",
    "A = smp.Function('A')(r)"
   ]
  },
  {
   "cell_type": "code",
   "execution_count": 42,
   "id": "ce1c515a-3a96-48a3-aee8-29cff4ec5da4",
   "metadata": {
    "tags": []
   },
   "outputs": [
    {
     "data": {
      "text/latex": [
       "$\\displaystyle A{\\left(r \\right)} \\frac{d}{d r} B{\\left(r \\right)} + B{\\left(r \\right)} \\frac{d}{d r} A{\\left(r \\right)}$"
      ],
      "text/plain": [
       "A(r)*Derivative(B(r), r) + B(r)*Derivative(A(r), r)"
      ]
     },
     "execution_count": 42,
     "metadata": {},
     "output_type": "execute_result"
    }
   ],
   "source": [
    "eq5 = ((eq1*B + eq2*A)*(r*B))\n",
    "eq5.simplify()"
   ]
  },
  {
   "cell_type": "markdown",
   "id": "6c8374ed-9454-4800-8b93-51ae1225e9c0",
   "metadata": {
    "tags": []
   },
   "source": [
    "We find Equation 5: $$A(r)\\frac{d{B(r)}}{d{r}} - B(r)\\frac{d{A(r)}}{d{r}}  = 0$$\n",
    "\n",
    "Which we can solve directly:"
   ]
  },
  {
   "cell_type": "code",
   "execution_count": 43,
   "id": "97a4cecf-59a3-40c5-b76e-04ad576c9d26",
   "metadata": {},
   "outputs": [
    {
     "data": {
      "text/latex": [
       "$\\displaystyle B{\\left(r \\right)} = \\frac{C_{1}}{A{\\left(r \\right)}}$"
      ],
      "text/plain": [
       "Eq(B(r), C1/A(r))"
      ]
     },
     "execution_count": 43,
     "metadata": {},
     "output_type": "execute_result"
    }
   ],
   "source": [
    "B_solution = smp.dsolve(eq5, B)\n",
    "B_solution"
   ]
  },
  {
   "cell_type": "markdown",
   "id": "3dd6ff43-93a6-4f01-b5ff-df25dc1a72b0",
   "metadata": {},
   "source": [
    "We find the following from solving Equation 5:\n",
    "\n",
    "$$B(r) = \\frac{C_0}{A(r)}$$\n",
    "\n",
    "Which we can now substitute into Equation 3 or Equation 4, in this case we substitute into Equation 3. We will call it Equation 6:"
   ]
  },
  {
   "cell_type": "code",
   "execution_count": 44,
   "id": "ac553baf-5e0d-455b-9050-e057aa46f2a0",
   "metadata": {
    "tags": []
   },
   "outputs": [
    {
     "data": {
      "text/latex": [
       "$\\displaystyle 1 - \\frac{r \\frac{d}{d r} A{\\left(r \\right)}}{C_{0}} - \\frac{A{\\left(r \\right)}}{C_{0}}$"
      ],
      "text/plain": [
       "1 - r*Derivative(A(r), r)/C_0 - A(r)/C_0"
      ]
     },
     "execution_count": 44,
     "metadata": {},
     "output_type": "execute_result"
    }
   ],
   "source": [
    "eq6 = eq3.subs(B, C_0/A).simplify()\n",
    "eq6"
   ]
  },
  {
   "cell_type": "markdown",
   "id": "55b9d10e-b271-40b7-b7a1-2cfa99a90cd0",
   "metadata": {},
   "source": [
    "Equation 6:\n",
    "\n",
    "$$ 1 - A(r) - r \\frac{dA(r)}{dr} = 0$$\n",
    "\n",
    "We are now at a point from which we can explicitly solve to find an exact function for $A(r)$:"
   ]
  },
  {
   "cell_type": "code",
   "execution_count": null,
   "id": "56daf6a7-31b2-4b32-b43d-4c9f4545480d",
   "metadata": {
    "tags": []
   },
   "outputs": [
    {
     "data": {
      "text/latex": [
       "$\\displaystyle A{\\left(r \\right)} = \\frac{C_{1}}{r} + C_{0}$"
      ],
      "text/plain": [
       "Eq(A(r), C1/r + C_0)"
      ]
     },
     "execution_count": 45,
     "metadata": {},
     "output_type": "execute_result"
    }
   ],
   "source": [
    "sol_A = smp.dsolve(eq6, A)\n",
    "sol_A.subs(smp.Symbol(\"C1\"), 1)\n"
   ]
  },
  {
   "cell_type": "markdown",
   "id": "76e7169d-ccc8-46fe-95ee-89a95c4ccb4b",
   "metadata": {},
   "source": [
    "Finnaly we have a solution to what we want. We find two constants, which we can combine into one and find:\n",
    "\n",
    "$$ A(r) = 1 + \\frac{C_{1}}{r}$$\n",
    "\n",
    "To find the constant $C_{1}$ requires physical boundary conditions. The way we find it is by substituting the above into the original metric, to find:\n",
    "\n",
    "\n",
    "$$ g_{\\mu \\nu} = \n",
    "\\begin{pmatrix}\n",
    "1 + \\frac{C_{1}}{r} & 0 & 0 & 0\\\\\n",
    "0 & \\frac{1}{1 + \\frac{C_{1}}{r}} & 0 & 0\\\\\n",
    "0 & 0 & r^2 & 0 \\\\\n",
    "0 & 0 & 0 & r^2\\sin^2(\\theta)\n",
    "\\end{pmatrix} $$\n",
    "\n",
    "We must make the following requirement:\n",
    "\n",
    "<center>Acceleration in flat-metric-approximation near body of mass M = Newtonian acceleration of gravity near body of mass M<center>\n",
    "    \n",
    "Mathematically, this is what we do:\n",
    "    \n",
    "In the limit $r \\rightarrow \\infty$\n",
    "    \n",
    "$$ \\frac{d^2r}{d\\tau^2} = \\Gamma^{r}_{t t} c c  \\Leftrightarrow ma = - \\frac{GMm}{r^2}$$\n",
    "    \n",
    "In comparing these two we can find that in the limmit $r \\rightarrow \\infty$ we find:\n",
    "    \n",
    "$$ - C_1 = r_s = \\frac{2GM}{c^2} $$\n",
    "    \n",
    "And we therefore find the Schwarzchild Solution in it's full wonderful glory as:\n",
    "    \n",
    "$$ g_{\\mu \\nu} = \n",
    "\\begin{pmatrix}\n",
    "1 - \\frac{r_s}{r} & 0 & 0 & 0\\\\\n",
    "0 & \\frac{1}{1 - \\frac{r_s}{r}} & 0 & 0\\\\\n",
    "0 & 0 & r^2 & 0 \\\\\n",
    "0 & 0 & 0 & r^2\\sin^2(\\theta)\n",
    "\\end{pmatrix} $$\n",
    "    \n",
    "And we now write this very metric in Sympy form so that we can calculate more interesting physical things:"
   ]
  },
  {
   "cell_type": "markdown",
   "id": "25482e62-44f9-41f8-bff0-30424359ff31",
   "metadata": {
    "tags": []
   },
   "source": [
    "#### The Schwarzschild Metric"
   ]
  },
  {
   "cell_type": "code",
   "execution_count": 46,
   "id": "69946050-2ff8-469d-934d-d496e0f7dbef",
   "metadata": {},
   "outputs": [],
   "source": [
    "t_p, r_p, theta_p, phi_p = smp.symbols('t_p r_p theta_p phi_p', cls = smp.Function)\n",
    "\n",
    "t_p = t_p(tau)\n",
    "r_p = r_p(tau)\n",
    "theta_p = theta_p(tau)\n",
    "phi_p = phi_p(tau)\n",
    "\n",
    "Schild = { 'Metric' : smp.MutableDenseNDimArray([[-(1 - (r_s)/(r_p)),0,0,0],\n",
    "                                                 [0,1/(1 - (r_s)/(r_p)),0,0],\n",
    "                                                 [0,0,r_p**2,0],\n",
    "                                                 [0,0,0,r_p**2*smp.sin(theta_p)**2]]),\n",
    "          'Basis' : smp.Array([t_p,r_p,theta_p,phi_p]),\n",
    "          \n",
    "          'Dimention' : 4, \n",
    "          \n",
    "          'Basis_Parameter' : smp.MutableDenseNDimArray([t_p, r_p, theta_p, phi_p]) }"
   ]
  },
  {
   "cell_type": "markdown",
   "id": "9271a8b0-e4fb-4e6f-be57-278b8efe3331",
   "metadata": {},
   "source": [
    "<b>Remark:\n",
    "\n",
    "Because each variable in this metric will be sooner or later be parammetrised by one variable to find worldlines and geodesics in this space, we have written the metric itself not with Sympy variables but rather with Sympy functions."
   ]
  },
  {
   "cell_type": "markdown",
   "id": "857c78ca-0b86-45c0-821b-14d759910766",
   "metadata": {
    "tags": []
   },
   "source": [
    "# <center>Calculating & Animating Orbital Equations<center>"
   ]
  },
  {
   "cell_type": "markdown",
   "id": "11336721-db13-4137-9a1a-0aec7bef46d2",
   "metadata": {},
   "source": [
    "In curved spaces, particles follow paths known as geodesics, where massive and massless particles do, of course, have slightly different geodesics. Given we now want to describe moving particles in curved spaces, geodesic equations are indispensable. There are a few different ways the geodesic can be derived, an elegant method is by extremizing the proper time:\n",
    "\n",
    "$$ \\tau_{AB} = \\int^{A}_{B} \\sqrt{-g_{\\mu \\nu}\\frac{dx^{\\mu}}{d\\tau}\\frac{dx^{\\nu}}{d\\tau}} $$\n",
    "\n",
    "A to B is the proper time A\n",
    "elapsed in space-time and we will find it convenient later to make it a unit length."
   ]
  },
  {
   "cell_type": "code",
   "execution_count": 47,
   "id": "9b5b57ea-5532-4db6-bef6-6fc8fa0f20de",
   "metadata": {},
   "outputs": [],
   "source": [
    "L = Lagrangian(Schild)"
   ]
  },
  {
   "cell_type": "markdown",
   "id": "007935da-88dd-4171-b59b-2dc1f26e1957",
   "metadata": {},
   "source": [
    "The Lagrangian equation above is given by:\n",
    "\n",
    "$$L = \\sqrt{ \\left( 1 - \\frac{r_s}{r} \\right) \\dot{t}^2 - \\left( 1 - \\frac{r_s}{r} \\right)^{-1}  \\dot{r}^2 - r^2 \\dot{\\theta}^2 - r^2\\sin^2(\\theta) \\dot{\\phi}^2}$$"
   ]
  },
  {
   "cell_type": "markdown",
   "id": "6e55f75d",
   "metadata": {},
   "source": [
    "$$ \\frac{\\partial L}{\\partial x^{\\alpha}} - \\frac{d}{d\\tau}   \\frac{\\partial L}{\\partial \\dot{x^{\\alpha}}}=0$$"
   ]
  },
  {
   "cell_type": "markdown",
   "id": "0bb3001d-c054-452e-8ac6-631af2f12c71",
   "metadata": {},
   "source": [
    "<b> Next, we solve Euler-Lagrange for $L$\n",
    "    \n",
    "We now wish to solve the equation of motions, by substituting our lagrangian above into the Euler-Lagrange Equations:\n",
    "\n",
    "\n",
    "$$ \\frac{\\partial L}{\\partial x^{\\alpha}} - \\frac{d {\\frac{d {L}}{d { \\frac{ d{x^{\\alpha}} }{d{\\tau}} }} } }{d{\\tau}} =0$$\n",
    "We have a 4-Dimentional spacetime and therefore there will be 4 differential equations:\n",
    "\n",
    "1. We can create an extra equation given above for $L=1$\n",
    "2. The Euler-Lagrange for $t$\n",
    "3. The Euler-Lagrange for $r$\n",
    "4. The Euler-Lagrange for $\\theta$\n",
    "5. The Euler-Lagrange for $\\phi$"
   ]
  },
  {
   "cell_type": "markdown",
   "id": "fafd5d77-dc98-4c32-a114-abb3d9179120",
   "metadata": {},
   "source": [
    "<b>1. The extra Euler-Lagrange\n",
    "\n",
    "By setting this equation to one $L=0$ we can treat it as an extra differential equation of motion. The reason we are allowed to do this is because $L$ represents the length of the parametrised path we will find by solving Euler-Lagrange equations. As the actual length is arbitrary non-zero value dependent on the parameter itself, we can choose any non-zero positive value, in this case we choose $1$."
   ]
  },
  {
   "cell_type": "code",
   "execution_count": 48,
   "id": "665ebbc8-f958-4e97-a012-4a47ef5fbba3",
   "metadata": {},
   "outputs": [],
   "source": [
    "E0 = 1 - Lagrangian(Schild)**2"
   ]
  },
  {
   "cell_type": "markdown",
   "id": "083d8c5d-1ff6-4213-8bca-81ac13a641d5",
   "metadata": {},
   "source": [
    "This Equation of motion we will call E0 and it is given by:\n",
    "\n",
    "$$1 = \\left( 1 - \\frac{r_s}{r} \\right) \\dot{t}^2 - \\left( 1 - \\frac{r_s}{r} \\right)^{-1}  \\dot{r}^2 - r^2 \\dot{\\theta}^2 - r^2\\sin^2(\\theta) \\dot{\\phi}^2$$\n",
    "\n",
    "Important Remark: This will be used as a \"Main Equation\" meaning it is this equation which we will substitute the other differential equations into, to find a final differential equation of the form: \n",
    "\n",
    "$$E = KE + V_{eff}$$"
   ]
  },
  {
   "cell_type": "markdown",
   "id": "3b7ebafe-65c3-44a8-8242-918333b256e2",
   "metadata": {},
   "source": [
    "<b>2. The Euler-Lagrange for t\n",
    "    \n",
    "We do not need to emmediatly use our Euler-Lagrange function to find this equation. Notice that since L is completly independent of time $t$\n",
    "    \n",
    "This means our E-L reduces to:\n",
    "    \n",
    "$$ \\frac{d}{d\\tau}\\frac{\\partial L}{\\partial \\dot{t}}=0 \\Rightarrow \\frac{\\partial L}{\\partial \\dot{t}} = Constant$$\n",
    "\n",
    "We write this constant as Energy $E$ and we find our first equation of motion as:"
   ]
  },
  {
   "cell_type": "code",
   "execution_count": 49,
   "id": "9abedd59-a51d-4896-ae22-3c7c66e08d25",
   "metadata": {},
   "outputs": [],
   "source": [
    "t_d = (E)/(1 - r_s/r_p)"
   ]
  },
  {
   "cell_type": "markdown",
   "id": "80085362-d7ff-4d17-a387-e6e11aac2185",
   "metadata": {},
   "source": [
    "$$ \\frac{dt}{d\\tau} = \\frac{E}{1 - \\frac{r_s}{r}}$$"
   ]
  },
  {
   "cell_type": "markdown",
   "id": "aab3e4b0-a34e-49c8-b480-a5d8b3da86c5",
   "metadata": {},
   "source": [
    "<b>3. The Euler-Lagrange for $r$"
   ]
  },
  {
   "cell_type": "code",
   "execution_count": 57,
   "id": "2eda520a-bd12-46eb-ad69-a992d4fcb406",
   "metadata": {},
   "outputs": [],
   "source": [
    "Er = Euler_Lagrange(L, Schild)[1]"
   ]
  },
  {
   "cell_type": "markdown",
   "id": "d7cada64-a7c7-4789-a7c4-a11126a4a262",
   "metadata": {},
   "source": [
    "Which we find to be:\n",
    "\n",
    "$$ 0 = \\left( 1 - \\frac{r_s}{r} \\right)^{-1} \\frac{d^2r}{d\\tau^2} - \\frac{r_s}{2r^2 \\left( 1 - \\frac{r_s}{r} \\right)^2} \\left( \\frac{dr}{d\\tau} \\right)^2  + \\frac{r_s}{2r^2} \\left( \\frac{dt}{d\\tau} \\right)^2 - r \\left( \\frac{d\\phi}{d\\tau} \\right)^2 - r\\sin^2(\\theta) \\left( \\frac{d\\phi}{d\\tau} \\right)^2$$\n",
    "\n",
    "From which we can rearange to find an explicity equation for $\\frac{d^2r}{d\\tau^2} = ...$"
   ]
  },
  {
   "cell_type": "code",
   "execution_count": 58,
   "id": "80fc2366-f010-4f4b-9bfe-65cf67d8364c",
   "metadata": {},
   "outputs": [
    {
     "data": {
      "text/latex": [
       "$\\displaystyle \\frac{r_{s}^{2} \\left(\\frac{d}{d \\tau} t_{p}{\\left(\\tau \\right)}\\right)^{2}}{2 r_{p}^{3}{\\left(\\tau \\right)}} - \\frac{r_{s}^{2} \\left(\\frac{d}{d \\tau} r_{p}{\\left(\\tau \\right)}\\right)^{2}}{2 \\left(r_{s} - r_{p}{\\left(\\tau \\right)}\\right)^{2} r_{p}{\\left(\\tau \\right)}} - r_{s} \\sin^{2}{\\left(\\theta_{p}{\\left(\\tau \\right)} \\right)} \\left(\\frac{d}{d \\tau} \\phi_{p}{\\left(\\tau \\right)}\\right)^{2} - r_{s} \\left(\\frac{d}{d \\tau} \\theta_{p}{\\left(\\tau \\right)}\\right)^{2} - \\frac{r_{s} \\left(\\frac{d}{d \\tau} t_{p}{\\left(\\tau \\right)}\\right)^{2}}{2 r_{p}^{2}{\\left(\\tau \\right)}} + \\frac{r_{s} \\left(\\frac{d}{d \\tau} r_{p}{\\left(\\tau \\right)}\\right)^{2}}{2 \\left(r_{s} - r_{p}{\\left(\\tau \\right)}\\right)^{2}} + r_{p}{\\left(\\tau \\right)} \\sin^{2}{\\left(\\theta_{p}{\\left(\\tau \\right)} \\right)} \\left(\\frac{d}{d \\tau} \\phi_{p}{\\left(\\tau \\right)}\\right)^{2} + r_{p}{\\left(\\tau \\right)} \\left(\\frac{d}{d \\tau} \\theta_{p}{\\left(\\tau \\right)}\\right)^{2}$"
      ],
      "text/plain": [
       "r_s**2*Derivative(t_p(tau), tau)**2/(2*r_p(tau)**3) - r_s**2*Derivative(r_p(tau), tau)**2/(2*(r_s - r_p(tau))**2*r_p(tau)) - r_s*sin(theta_p(tau))**2*Derivative(phi_p(tau), tau)**2 - r_s*Derivative(theta_p(tau), tau)**2 - r_s*Derivative(t_p(tau), tau)**2/(2*r_p(tau)**2) + r_s*Derivative(r_p(tau), tau)**2/(2*(r_s - r_p(tau))**2) + r_p(tau)*sin(theta_p(tau))**2*Derivative(phi_p(tau), tau)**2 + r_p(tau)*Derivative(theta_p(tau), tau)**2"
      ]
     },
     "execution_count": 58,
     "metadata": {},
     "output_type": "execute_result"
    }
   ],
   "source": [
    "r_dd = smp.solve(Er, smp.diff(r_p, tau, tau))[0]\n",
    "r_dd"
   ]
  },
  {
   "cell_type": "markdown",
   "id": "df3ec84b-00e3-47f2-b99b-4c4a8ad02f34",
   "metadata": {},
   "source": [
    "<b>4. The Euler-Lagrange for $\\theta$"
   ]
  },
  {
   "cell_type": "code",
   "execution_count": 53,
   "id": "1b68322f-6c6a-4bd3-96e7-34d27b94e48a",
   "metadata": {},
   "outputs": [],
   "source": [
    "Etheta = Euler_Lagrange(L, Schild)[2]"
   ]
  },
  {
   "cell_type": "markdown",
   "id": "9510fa3a-8e68-4a67-bb14-9be7f330e99d",
   "metadata": {},
   "source": [
    "Which we find to be:\n",
    "\n",
    "$$ 0 = r^2 \\left( \\frac{d^2\\theta}{d\\tau^2} \\right) + 2r \\left( \\frac{dr}{d\\tau} \\right) \\left( \\frac{d\\theta}{d\\tau} \\right) - r^2\\sin(\\theta)\\cos(\\theta) \\left( \\frac{d\\phi}{d\\tau} \\right)^2$$\n",
    "\n",
    "From which we can rearange to find an explicity equation for $\\frac{d^2\\theta}{d\\tau^2} = ...$"
   ]
  },
  {
   "cell_type": "code",
   "execution_count": 59,
   "id": "fabfd7e7-5dcd-4f4e-9fc2-d58d3c379063",
   "metadata": {},
   "outputs": [],
   "source": [
    "theta_dd = smp.solve(Etheta, smp.diff(theta_p, tau, tau))[0]"
   ]
  },
  {
   "cell_type": "markdown",
   "id": "44a7aebf-85e1-40ee-9a27-3b16243f012d",
   "metadata": {},
   "source": [
    "<b>5. The Euler-Lagrange for $\\phi$\n",
    "    \n",
    "Just like in the case for time-component equation, $L$ is completly independent of $\\phi$, which again, emediatly reduces the Euler-Lagrange equation to the form:\n",
    "    \n",
    "$$ \\frac{d}{d\\tau}\\frac{\\partial L}{\\partial \\dot{\\phi}}=0 \\Rightarrow \\frac{\\partial L}{\\partial \\dot{\\phi}} = Constant$$\n",
    "\n",
    "We write this constant as Angular Momentum, dented by $l$ and we find our phi equation of motion to be:\n",
    "    \n",
    "$$ \\frac{d\\phi}{d\\tau} = \\frac{l}{r^2\\sin^2(\\theta)} $$"
   ]
  },
  {
   "cell_type": "code",
   "execution_count": 55,
   "id": "47bbb52f-460b-45ff-a6c2-60bddb193a99",
   "metadata": {},
   "outputs": [],
   "source": [
    "phi_d = l/(r_p**2*smp.sin(theta_p)**2)"
   ]
  },
  {
   "cell_type": "markdown",
   "id": "0c70745b-ed0f-401f-b65b-fc9147bb8c2d",
   "metadata": {},
   "source": [
    "However, we can also immediatly find the equation for $\\frac{d^2\\phi}{d\\tau^2} = ...$"
   ]
  },
  {
   "cell_type": "code",
   "execution_count": 56,
   "id": "4cc1d8ab-261d-4aa3-8e10-f789669bfafc",
   "metadata": {},
   "outputs": [],
   "source": [
    "phi_dd = smp.solve(Euler_Lagrange(L, Schild)[3].subs(theta_p, smp.pi/2).simplify(), smp.diff(phi_p, tau, tau))[0].simplify() # Please mind the messiness"
   ]
  },
  {
   "cell_type": "markdown",
   "id": "b29ea927-6bcc-4548-9b2e-a36338960edc",
   "metadata": {},
   "source": [
    "<b> Physics Simplifications:\n",
    "\n",
    "Before continue with the maths let’s think about some physics:\n",
    "    \n",
    "Due to conservation of angular momentum, we know planets orbit on fixed planes. This statement comes from Newtonian physics, however, it also applies to the Schwarzchild spacetime geometry, as can be seen from the maths by the independence of $\\phi$ in our Lagrangian $L$ derived from the Schwarzchild metric itself. The variable $\\theta$ determines the plane of the orbital motion. The exact same physics will happen on any orbital plane we choose to do our calculations. Therefore, for mathematical simplicity, we make the choice:\n",
    "    \n",
    "$\\theta = \\frac{\\pi}{2}$, consequently $\\sin(\\frac{\\pi}{2}) = 1$ and  $\\frac{d\\theta}{d\\tau}=0$."
   ]
  },
  {
   "cell_type": "markdown",
   "id": "1dc0ecb1-590f-40d2-9619-d3dfded017a7",
   "metadata": {},
   "source": [
    "<b> Substitutions:\n",
    "    \n",
    "First: We have explicit forms for $\\frac{d\\phi}{d\\tau}$ and $\\frac{dt}{d\\tau}$ which we can substitute into our first equation $L=1$ (E0)\n",
    "    \n",
    "Second: We have made the choice $\\theta = \\frac{\\pi}{2}$ which we can also use to greatly simlify $L=1$ (E0) from any dependence of $\\theta$\n",
    "    \n",
    "After making these substitutions, we will call the resulting equation E1"
   ]
  },
  {
   "cell_type": "code",
   "execution_count": null,
   "id": "19ce2192-fb13-498d-b903-a75876f7a038",
   "metadata": {},
   "outputs": [],
   "source": [
    "E1 = E0.subs([(smp.diff(t_p, tau),t_d), (smp.diff(phi_p, tau), phi_d), (theta_p, smp.pi/2)]).simplify()"
   ]
  },
  {
   "cell_type": "markdown",
   "id": "ea536086-fc5e-4ab1-bc70-af0fedef2c49",
   "metadata": {},
   "source": [
    "This new differential equation E1, is given by:\n",
    "\n",
    "$$ 0 = - \\frac{E^2}{2} + \\frac{1}{2} + \\frac{1}{2}\\left( \\frac{dr}{d\\tau} \\right)^2 - \\frac{r_s}{2r} + \\frac{l^2}{2r^2} - \\frac{r_sl^2}{2r^3} $$\n",
    "\n",
    "Which can be rearranged to the form\n",
    "\n",
    "$$ \\left( \\frac{E^2}{2} \\right) = \\frac{1}{2}\\left( \\frac{dr}{d\\tau} \\right)^2 + \\frac{1}{2} - \\frac{r_s}{2r} + \\frac{l^2}{2r^2} - \\frac{r_sl^2}{2r^3} $$\n",
    "\n",
    "Which is clearly of the same shape as\n",
    "\n",
    "$$ E = KE + V_{eff} $$\n",
    "\n",
    "And we find the very usefull term:\n",
    "\n",
    "$$ V_{eff} = \\frac{1}{2} + \\frac{l^2}{2r^2} - \\frac{r_s}{2r} - \\frac{r_sl^2}{2r^3} $$"
   ]
  },
  {
   "cell_type": "markdown",
   "id": "23e25499-bae7-49ca-b68f-752d995fad6b",
   "metadata": {},
   "source": [
    "### Animating Orbital Equations"
   ]
  },
  {
   "cell_type": "markdown",
   "id": "ee6cc91f-cc90-44cb-abf0-9653206f2494",
   "metadata": {},
   "source": [
    "There are many ways to go about animating orbital equations. We will do the most straighforeward method, to arrive at the answer quickest. From a physics standpoint, our solution can be considered as a Newtonian approximation to the General Relativistic orbit. This is not to say we do not have all the relevant information and equations at hand to calculate all the precise relativistic GRsolutions. However, that rout is much longer, so for the sake of \"getting to the point\" we will make due with the Newtonian approximation, which still reproduces the identifying feature of a Relativistic orbit, known as precession of the perihelion of orbits. What I mean by Newtonian approximation, is we will solve the classical Euler-Lagrange equation with the effective potential calculated above using GR.\n",
    "\n",
    "We have non-relativistic Kinetic Energy given by:\n",
    "\n",
    "$$ KE = \\frac{1}{2}m \\left( \\left( \\frac{dr}{dt} \\right)^2 + r^2 \\left( \\frac{d\\phi}{dt} \\right)^2 \\right) $$\n",
    "\n",
    "The effective potential is given by \n",
    "\n",
    "$$ V_{eff} = \\frac{1}{2} + \\frac{l^2}{2r^2} - \\frac{r_s}{2r} - \\frac{r_sl^2}{2r^3} $$"
   ]
  },
  {
   "cell_type": "code",
   "execution_count": 60,
   "id": "67fc2500-9088-4c54-9a6e-ac5c8ae7d9c6",
   "metadata": {},
   "outputs": [],
   "source": [
    "t, m, M, l, r_s = smp.symbols('t m M l r_s')\n",
    "r, theta = smp.symbols('r theta', cls = smp.Function)"
   ]
  },
  {
   "cell_type": "code",
   "execution_count": 61,
   "id": "aa11d7aa-f960-4c94-9847-c097dfbef9c7",
   "metadata": {},
   "outputs": [],
   "source": [
    "r = r(t)\n",
    "theta = theta(t)"
   ]
  },
  {
   "cell_type": "code",
   "execution_count": 62,
   "id": "52dd984c-245e-466a-b38a-06afb971040e",
   "metadata": {},
   "outputs": [],
   "source": [
    "drdt = smp.diff(r, t)\n",
    "dthetadt = smp.diff(theta, t)"
   ]
  },
  {
   "cell_type": "markdown",
   "id": "5ed52c86-da13-4197-bf78-3ce1bfdb5c7e",
   "metadata": {},
   "source": [
    "$$L = KE - V$$\n",
    "\n",
    "Kinetic Energy $KE$:"
   ]
  },
  {
   "cell_type": "code",
   "execution_count": 63,
   "id": "8c0c0422-25f3-4e72-9915-40d03071dce7",
   "metadata": {},
   "outputs": [],
   "source": [
    "KE = smp.Rational(1,2)*m*((drdt**2) + (r**2)*(dthetadt**2))"
   ]
  },
  {
   "cell_type": "markdown",
   "id": "c17fcd72-3951-42ee-8ed5-af998d9394a5",
   "metadata": {},
   "source": [
    "Potential Energy $V$:"
   ]
  },
  {
   "cell_type": "code",
   "execution_count": 64,
   "id": "7e5299df-7f89-4231-8822-239ed8f44303",
   "metadata": {},
   "outputs": [
    {
     "data": {
      "text/latex": [
       "$\\displaystyle - \\frac{l^{2} r_{s}}{2 r^{3}{\\left(t \\right)}} + \\frac{l^{2}}{2 r^{2}{\\left(t \\right)}} - \\frac{r_{s}}{2 r{\\left(t \\right)}} + 0.5$"
      ],
      "text/plain": [
       "-l**2*r_s/(2*r(t)**3) + l**2/(2*r(t)**2) - r_s/(2*r(t)) + 0.5"
      ]
     },
     "execution_count": 64,
     "metadata": {},
     "output_type": "execute_result"
    }
   ],
   "source": [
    "V = 1/2 + (l**2)/(2*r**2) - (r_s)/(2*r) - (r_s*l**2)/(2*r**3)\n",
    "V"
   ]
  },
  {
   "cell_type": "markdown",
   "id": "a08f6585-d513-4572-b380-2328eee832fb",
   "metadata": {},
   "source": [
    "Now, we put these together to find the Lagrangian $L$:"
   ]
  },
  {
   "cell_type": "code",
   "execution_count": 65,
   "id": "d92ac6f1-7614-4eff-aa0a-8f4855544f97",
   "metadata": {},
   "outputs": [],
   "source": [
    "L = KE - V"
   ]
  },
  {
   "cell_type": "markdown",
   "id": "1217ad3f-6bfe-493f-9cb2-32cc563209af",
   "metadata": {},
   "source": [
    "Define the Euler-Lagrange equation, we want equations of $r$ and $\\theta$:\n",
    "\n",
    "$$ \\frac{\\partial L}{\\partial x^{\\mu}} - \\frac{d}{dt}\\frac{\\partial L}{\\partial \\dot{x^{\\mu}}} = 0  $$"
   ]
  },
  {
   "cell_type": "code",
   "execution_count": 66,
   "id": "66deaeb5-7724-48d9-8523-7fc0ed48beed",
   "metadata": {},
   "outputs": [],
   "source": [
    "Er = smp.diff(L, r) - smp.diff( smp.diff(L, drdt),t)\n",
    "Etheta = smp.diff(L, theta) - smp.diff( smp.diff(L, dthetadt),t)"
   ]
  },
  {
   "cell_type": "markdown",
   "id": "a4412551-0d41-4506-b9a7-7c582b6a1721",
   "metadata": {},
   "source": [
    "Now we solve for the equations:\n",
    "    \n",
    "$\\frac{d^2r}{dt^2} = ...$"
   ]
  },
  {
   "cell_type": "code",
   "execution_count": 67,
   "id": "54df4383-9b70-455e-ab98-79390bdf82d8",
   "metadata": {},
   "outputs": [
    {
     "data": {
      "text/latex": [
       "$\\displaystyle \\frac{- \\frac{3 l^{2} r_{s}}{2} + l^{2} r{\\left(t \\right)} + m r^{5}{\\left(t \\right)} \\left(\\frac{d}{d t} \\theta{\\left(t \\right)}\\right)^{2} - \\frac{r_{s} r^{2}{\\left(t \\right)}}{2}}{m r^{4}{\\left(t \\right)}}$"
      ],
      "text/plain": [
       "(-3*l**2*r_s/2 + l**2*r(t) + m*r(t)**5*Derivative(theta(t), t)**2 - r_s*r(t)**2/2)/(m*r(t)**4)"
      ]
     },
     "execution_count": 67,
     "metadata": {},
     "output_type": "execute_result"
    }
   ],
   "source": [
    "d2rdt2 = smp.solve(Er, smp.diff(r, t, t))[0]\n",
    "d2rdt2"
   ]
  },
  {
   "cell_type": "markdown",
   "id": "1c9f3cc5-40c4-4138-8fb7-df9e947b2c16",
   "metadata": {},
   "source": [
    "$\\frac{d^2{\\theta}}{dt^2} = ...$"
   ]
  },
  {
   "cell_type": "code",
   "execution_count": 68,
   "id": "a3c081f3-5b9d-4267-aa6b-5898e1a9bcba",
   "metadata": {},
   "outputs": [
    {
     "data": {
      "text/latex": [
       "$\\displaystyle - \\frac{2 \\frac{d}{d t} r{\\left(t \\right)} \\frac{d}{d t} \\theta{\\left(t \\right)}}{r{\\left(t \\right)}}$"
      ],
      "text/plain": [
       "-2*Derivative(r(t), t)*Derivative(theta(t), t)/r(t)"
      ]
     },
     "execution_count": 68,
     "metadata": {},
     "output_type": "execute_result"
    }
   ],
   "source": [
    "d2thetadt2 = smp.solve(Etheta, smp.diff(theta, t, t))[0]\n",
    "d2thetadt2"
   ]
  },
  {
   "cell_type": "markdown",
   "id": "982696b8-849e-42e3-bba6-d212adf90a05",
   "metadata": {},
   "source": [
    "We have two differential equations and we wish to convert them to four first order ODE's\n",
    "\n",
    "Define:\n",
    "\n",
    "$\\dot{r} = z_1$\n",
    "\n",
    "$\\dot{\\theta} = z_2$\n",
    "\n",
    "Our four ODE's are:\n",
    "\n",
    "$\\dot{r} = z_1$\n",
    "\n",
    "$\\dot{z_1} = ...$\n",
    "\n",
    "$\\dot{\\theta} = z_2$\n",
    "\n",
    "$\\dot{z_2} = ...$\n"
   ]
  },
  {
   "cell_type": "code",
   "execution_count": 69,
   "id": "a470bd65-5bbf-4373-9a1d-b898179ef165",
   "metadata": {},
   "outputs": [],
   "source": [
    "dz1dt_f = smp.lambdify((t, m, M, l, r_s, r, drdt, dthetadt), d2rdt2)\n",
    "dz2dt_f = smp.lambdify((t, m, M, l, r_s, r, drdt, dthetadt), d2thetadt2)\n",
    "drdt_f = smp.lambdify(drdt, drdt)\n",
    "dthetadt_f = smp.lambdify(dthetadt, dthetadt)"
   ]
  },
  {
   "cell_type": "markdown",
   "id": "43953a9b-e234-4c4c-a079-2b62a175e96a",
   "metadata": {},
   "source": [
    "Next, we define $S = (r, z_1, \\theta, z_2)$ from which we can differentiate to find:\n",
    "\n",
    "$$ \\frac{dS}{dt} = (\\dot{r}, \\dot{z_1}, \\dot{\\theta}, \\dot{z_2}) $$"
   ]
  },
  {
   "cell_type": "code",
   "execution_count": 70,
   "id": "3dfa1c29-6d90-42cd-aaa5-54687022e2e4",
   "metadata": {},
   "outputs": [],
   "source": [
    "def dSdt(S, t, m, M, l, r_s):\n",
    "    r, z1, theta, z2 = S\n",
    "    return [drdt_f(z1),\n",
    "           dz1dt_f(t, m, M, l, r_s, r, z1, z2),\n",
    "           dthetadt_f(z2),\n",
    "           dz2dt_f(t, m, M, l, r_s, r, z1, z2)]"
   ]
  },
  {
   "cell_type": "code",
   "execution_count": 71,
   "id": "3c91716a-458a-402b-ba57-ce752285d2cf",
   "metadata": {},
   "outputs": [],
   "source": [
    "t = np.arange(0, 400, 0.05)\n",
    "m = 1\n",
    "l = 0.125\n",
    "r_s = 100\n",
    "S_0 = [8, 1, 0, 0.125]\n",
    "args = (m, M, l, r_s)\n",
    "ans = integrate.odeint(dSdt, S_0 ,t=t, args = args)"
   ]
  },
  {
   "cell_type": "code",
   "execution_count": 72,
   "id": "1bc59d4d-84df-4f6b-a7a5-433f9382faa0",
   "metadata": {},
   "outputs": [],
   "source": [
    "rd = ans.T[0]\n",
    "drdtd = ans.T[1]\n",
    "thetad = ans.T[2]\n",
    "dthetadtd = ans.T[3]"
   ]
  },
  {
   "cell_type": "code",
   "execution_count": 73,
   "id": "0e5c5a58-4925-4f52-8abd-9abf96e3eb27",
   "metadata": {},
   "outputs": [
    {
     "data": {
      "text/plain": [
       "array([8.        , 8.04918206, 8.0967402 , ..., 8.40757836, 8.37188782,\n",
       "       8.33468537])"
      ]
     },
     "execution_count": 73,
     "metadata": {},
     "output_type": "execute_result"
    }
   ],
   "source": [
    "rd"
   ]
  },
  {
   "cell_type": "code",
   "execution_count": 74,
   "id": "52f6b926-576b-4121-9c7d-09986319a6e9",
   "metadata": {},
   "outputs": [
    {
     "data": {
      "text/plain": [
       "array([0.00000000e+00, 6.21159832e-03, 1.23489835e-02, ...,\n",
       "       2.78876634e+02, 2.78882317e+02, 2.78888050e+02])"
      ]
     },
     "execution_count": 74,
     "metadata": {},
     "output_type": "execute_result"
    }
   ],
   "source": [
    "thetad"
   ]
  },
  {
   "cell_type": "code",
   "execution_count": 75,
   "id": "4ac2b94f-9e27-417a-aeba-f56a2ef9e398",
   "metadata": {},
   "outputs": [
    {
     "data": {
      "text/plain": [
       "[<matplotlib.lines.Line2D at 0x13dac2c10>]"
      ]
     },
     "execution_count": 75,
     "metadata": {},
     "output_type": "execute_result"
    },
    {
     "data": {
      "image/png": "[encoded data removed]",
      "text/plain": [
       "<Figure size 640x480 with 1 Axes>"
      ]
     },
     "metadata": {},
     "output_type": "display_data"
    }
   ],
   "source": [
    "def get_xy_data(t, r, theta):\n",
    "    xt = r*np.cos(theta)\n",
    "    yt = r*np.sin(theta)\n",
    "    return (xt, yt)\n",
    "x1, y1 = get_xy_data(t, ans.T[0], ans.T[2])\n",
    "plt.plot(x1, y1)"
   ]
  },
  {
   "cell_type": "code",
   "execution_count": 76,
   "id": "a46afafd-34fb-4d5a-a161-af9e48aac851",
   "metadata": {},
   "outputs": [
    {
     "data": {
      "text/plain": [
       "[<matplotlib.lines.Line2D at 0x13dcaabd0>]"
      ]
     },
     "execution_count": 76,
     "metadata": {},
     "output_type": "execute_result"
    },
    {
     "data": {
      "image/png": "[encoded data removed]",
      "text/plain": [
       "<Figure size 640x480 with 1 Axes>"
      ]
     },
     "metadata": {},
     "output_type": "display_data"
    }
   ],
   "source": [
    "m = 1\n",
    "l = 1.125\n",
    "r_s = 200\n",
    "V = 1/2 + (l**2)/(2*rd**2) - (r_s)/(2*rd) - (r_s*l**2)/(2*rd**3)\n",
    "plt.plot(rd, V)"
   ]
  },
  {
   "cell_type": "code",
   "execution_count": 77,
   "id": "a3ab0f10-bfb8-4979-be8e-f9391d484ca9",
   "metadata": {},
   "outputs": [
    {
     "data": {
      "text/plain": [
       "[<matplotlib.lines.Line2D at 0x13dd22b10>]"
      ]
     },
     "execution_count": 77,
     "metadata": {},
     "output_type": "execute_result"
    },
    {
     "data": {
      "image/png": "[encoded data removed]",
      "text/plain": [
       "<Figure size 640x480 with 1 Axes>"
      ]
     },
     "metadata": {},
     "output_type": "display_data"
    }
   ],
   "source": [
    "l = 2\n",
    "r_s = 1\n",
    "\n",
    "x = np.arange(2, 10, 0.05)\n",
    "y = 1/2 + (l**2/(2*x**2)) - (r_s)/(2*x) - (r_s*l**2)/(2*x**3)\n",
    "plt.plot(x, y)"
   ]
  },
  {
   "cell_type": "markdown",
   "id": "f4625022-6056-4a58-9ec0-901da3310984",
   "metadata": {},
   "source": [
    "Then we can animate:"
   ]
  },
  {
   "cell_type": "code",
   "execution_count": 78,
   "id": "0584b432-40cd-4455-a22f-827521f7d0c7",
   "metadata": {},
   "outputs": [
    {
     "data": {
      "image/png": "[encoded data removed]",
      "text/plain": [
       "<Figure size 800x800 with 1 Axes>"
      ]
     },
     "metadata": {},
     "output_type": "display_data"
    }
   ],
   "source": [
    "fig, ax = plt.subplots(1, 1, figsize = (8,8))\n",
    "ax.set_facecolor('k')\n",
    "ax.get_xaxis().set_ticks([])\n",
    "ax.get_yaxis().set_ticks([])\n",
    "xdata = []\n",
    "ydata = []\n",
    "ln2, = plt.plot([],[], color = 'g', lw=1,)\n",
    "ln1, = plt.plot([],[],'o', lw=3, markersize = 8)\n",
    "ax.set_ylim(-20, 20)\n",
    "ax.set_xlim(-20, 20)\n",
    "\n",
    "def animate(i):\n",
    "    xdata.append(x1[i])\n",
    "    ydata.append(y1[i])\n",
    "    ln2.set_data(xdata, ydata)\n",
    "    ln1.set_data([0, x1[i]],[0, y1[i]])\n",
    "\n",
    "ani = animation.FuncAnimation(fig, animate, frames = 4000, interval=50)\n",
    "ani.save('pen.gif', writer = 'pillow', fps = 30)"
   ]
  },
  {
   "cell_type": "code",
   "execution_count": null,
   "id": "d1075b01-73b7-42a1-afce-5051bddd6efe",
   "metadata": {},
   "outputs": [],
   "source": []
  },
  {
   "cell_type": "code",
   "execution_count": null,
   "id": "f4a7537f-ecb4-4107-851e-75c1b33531ad",
   "metadata": {},
   "outputs": [],
   "source": []
  }
 ],
 "metadata": {
  "kernelspec": {
   "display_name": "Python 3 (ipykernel)",
   "language": "python",
   "name": "python3"
  },
  "language_info": {
   "codemirror_mode": {
    "name": "ipython",
    "version": 3
   },
   "file_extension": ".py",
   "mimetype": "text/x-python",
   "name": "python",
   "nbconvert_exporter": "python",
   "pygments_lexer": "ipython3",
   "version": "3.11.1"
  }
 },
 "nbformat": 4,
 "nbformat_minor": 5
}
